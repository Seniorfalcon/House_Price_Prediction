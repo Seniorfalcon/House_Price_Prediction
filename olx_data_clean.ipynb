{
 "cells": [
  {
   "cell_type": "code",
   "execution_count": 1,
   "metadata": {},
   "outputs": [],
   "source": [
    "# import necessary libraries :\n",
    "import pandas as pd\n",
    "import numpy as np\n",
    "import re\n",
    "import matplotlib.pyplot as plt\n",
    "import seaborn as sb"
   ]
  },
  {
   "cell_type": "code",
   "execution_count": 2,
   "metadata": {},
   "outputs": [
    {
     "data": {
      "text/html": [
       "<div>\n",
       "<style scoped>\n",
       "    .dataframe tbody tr th:only-of-type {\n",
       "        vertical-align: middle;\n",
       "    }\n",
       "\n",
       "    .dataframe tbody tr th {\n",
       "        vertical-align: top;\n",
       "    }\n",
       "\n",
       "    .dataframe thead th {\n",
       "        text-align: right;\n",
       "    }\n",
       "</style>\n",
       "<table border=\"1\" class=\"dataframe\">\n",
       "  <thead>\n",
       "    <tr style=\"text-align: right;\">\n",
       "      <th></th>\n",
       "      <th>Area(SQM)</th>\n",
       "      <th>Bedroom</th>\n",
       "      <th>Bathroom</th>\n",
       "      <th>Location</th>\n",
       "      <th>Price</th>\n",
       "      <th>Negotiable</th>\n",
       "      <th>Balcony</th>\n",
       "      <th>Electricity</th>\n",
       "      <th>Water</th>\n",
       "      <th>Gas</th>\n",
       "      <th>Landline</th>\n",
       "      <th>Elevator</th>\n",
       "      <th>Security</th>\n",
       "      <th>Built_in_Kitchen</th>\n",
       "      <th>Maids_Room</th>\n",
       "      <th>Private_Garden</th>\n",
       "      <th>Parking</th>\n",
       "      <th>Central(A/C)&amp; heating</th>\n",
       "      <th>Pool</th>\n",
       "      <th>Type</th>\n",
       "      <th>Level</th>\n",
       "      <th>Furnished</th>\n",
       "      <th>Compound</th>\n",
       "      <th>Delivery_Date</th>\n",
       "      <th>Delivery_Term</th>\n",
       "    </tr>\n",
       "  </thead>\n",
       "  <tbody>\n",
       "    <tr>\n",
       "      <th>0</th>\n",
       "      <td>125</td>\n",
       "      <td>3</td>\n",
       "      <td>2</td>\n",
       "      <td>Shatby</td>\n",
       "      <td>2200000</td>\n",
       "      <td>1</td>\n",
       "      <td>1</td>\n",
       "      <td>1</td>\n",
       "      <td>1</td>\n",
       "      <td>1</td>\n",
       "      <td>0</td>\n",
       "      <td>1</td>\n",
       "      <td>0</td>\n",
       "      <td>0</td>\n",
       "      <td>0</td>\n",
       "      <td>0</td>\n",
       "      <td>0</td>\n",
       "      <td>0</td>\n",
       "      <td>0</td>\n",
       "      <td>Apartment</td>\n",
       "      <td>10</td>\n",
       "      <td>0.0</td>\n",
       "      <td>NaN</td>\n",
       "      <td>Ready</td>\n",
       "      <td>Finished</td>\n",
       "    </tr>\n",
       "    <tr>\n",
       "      <th>1</th>\n",
       "      <td>120</td>\n",
       "      <td>4</td>\n",
       "      <td>1</td>\n",
       "      <td>Sidi Beshr</td>\n",
       "      <td>500000</td>\n",
       "      <td>0</td>\n",
       "      <td>0</td>\n",
       "      <td>1</td>\n",
       "      <td>1</td>\n",
       "      <td>1</td>\n",
       "      <td>1</td>\n",
       "      <td>0</td>\n",
       "      <td>0</td>\n",
       "      <td>0</td>\n",
       "      <td>0</td>\n",
       "      <td>0</td>\n",
       "      <td>0</td>\n",
       "      <td>0</td>\n",
       "      <td>0</td>\n",
       "      <td>Apartment</td>\n",
       "      <td>3</td>\n",
       "      <td>0.0</td>\n",
       "      <td>NaN</td>\n",
       "      <td>Ready</td>\n",
       "      <td>Finished</td>\n",
       "    </tr>\n",
       "    <tr>\n",
       "      <th>2</th>\n",
       "      <td>165</td>\n",
       "      <td>3</td>\n",
       "      <td>2</td>\n",
       "      <td>Sidi Beshr</td>\n",
       "      <td>1500000</td>\n",
       "      <td>1</td>\n",
       "      <td>1</td>\n",
       "      <td>1</td>\n",
       "      <td>1</td>\n",
       "      <td>1</td>\n",
       "      <td>0</td>\n",
       "      <td>1</td>\n",
       "      <td>0</td>\n",
       "      <td>0</td>\n",
       "      <td>0</td>\n",
       "      <td>0</td>\n",
       "      <td>0</td>\n",
       "      <td>0</td>\n",
       "      <td>0</td>\n",
       "      <td>Apartment</td>\n",
       "      <td>3</td>\n",
       "      <td>0.0</td>\n",
       "      <td>NaN</td>\n",
       "      <td>NaN</td>\n",
       "      <td>Finished</td>\n",
       "    </tr>\n",
       "    <tr>\n",
       "      <th>3</th>\n",
       "      <td>155</td>\n",
       "      <td>3</td>\n",
       "      <td>2</td>\n",
       "      <td>Cleopatra</td>\n",
       "      <td>1650000</td>\n",
       "      <td>0</td>\n",
       "      <td>0</td>\n",
       "      <td>0</td>\n",
       "      <td>0</td>\n",
       "      <td>0</td>\n",
       "      <td>0</td>\n",
       "      <td>0</td>\n",
       "      <td>0</td>\n",
       "      <td>0</td>\n",
       "      <td>0</td>\n",
       "      <td>0</td>\n",
       "      <td>0</td>\n",
       "      <td>0</td>\n",
       "      <td>0</td>\n",
       "      <td>Apartment</td>\n",
       "      <td>3</td>\n",
       "      <td>0.0</td>\n",
       "      <td>NaN</td>\n",
       "      <td>Ready</td>\n",
       "      <td>Finished</td>\n",
       "    </tr>\n",
       "    <tr>\n",
       "      <th>4</th>\n",
       "      <td>210</td>\n",
       "      <td>3</td>\n",
       "      <td>2</td>\n",
       "      <td>Smoha</td>\n",
       "      <td>2950000</td>\n",
       "      <td>0</td>\n",
       "      <td>0</td>\n",
       "      <td>0</td>\n",
       "      <td>0</td>\n",
       "      <td>0</td>\n",
       "      <td>0</td>\n",
       "      <td>0</td>\n",
       "      <td>0</td>\n",
       "      <td>0</td>\n",
       "      <td>0</td>\n",
       "      <td>0</td>\n",
       "      <td>0</td>\n",
       "      <td>0</td>\n",
       "      <td>0</td>\n",
       "      <td>Apartment</td>\n",
       "      <td>6</td>\n",
       "      <td>0.0</td>\n",
       "      <td>NaN</td>\n",
       "      <td>NaN</td>\n",
       "      <td>Finished</td>\n",
       "    </tr>\n",
       "  </tbody>\n",
       "</table>\n",
       "</div>"
      ],
      "text/plain": [
       "   Area(SQM) Bedroom Bathroom    Location    Price  Negotiable  Balcony  \\\n",
       "0        125       3        2      Shatby  2200000           1        1   \n",
       "1        120       4        1  Sidi Beshr   500000           0        0   \n",
       "2        165       3        2  Sidi Beshr  1500000           1        1   \n",
       "3        155       3        2   Cleopatra  1650000           0        0   \n",
       "4        210       3        2       Smoha  2950000           0        0   \n",
       "\n",
       "   Electricity  Water  Gas  Landline  Elevator  Security  Built_in_Kitchen  \\\n",
       "0            1      1    1         0         1         0                 0   \n",
       "1            1      1    1         1         0         0                 0   \n",
       "2            1      1    1         0         1         0                 0   \n",
       "3            0      0    0         0         0         0                 0   \n",
       "4            0      0    0         0         0         0                 0   \n",
       "\n",
       "   Maids_Room  Private_Garden  Parking  Central(A/C)& heating  Pool  \\\n",
       "0           0               0        0                      0     0   \n",
       "1           0               0        0                      0     0   \n",
       "2           0               0        0                      0     0   \n",
       "3           0               0        0                      0     0   \n",
       "4           0               0        0                      0     0   \n",
       "\n",
       "        Type Level  Furnished Compound Delivery_Date Delivery_Term  \n",
       "0  Apartment    10        0.0      NaN         Ready      Finished  \n",
       "1  Apartment     3        0.0      NaN         Ready      Finished  \n",
       "2  Apartment     3        0.0      NaN           NaN      Finished  \n",
       "3  Apartment     3        0.0      NaN         Ready      Finished  \n",
       "4  Apartment     6        0.0      NaN           NaN      Finished  "
      ]
     },
     "execution_count": 2,
     "metadata": {},
     "output_type": "execute_result"
    }
   ],
   "source": [
    "# reading dataset :\n",
    "pd.set_option('display.max_columns', 30)\n",
    "df = pd.read_csv(\"house_prices_dataset.csv\")\n",
    "df.head()"
   ]
  },
  {
   "cell_type": "code",
   "execution_count": 3,
   "metadata": {},
   "outputs": [
    {
     "name": "stdout",
     "output_type": "stream",
     "text": [
      "<class 'pandas.core.frame.DataFrame'>\n",
      "RangeIndex: 8741 entries, 0 to 8740\n",
      "Data columns (total 25 columns):\n",
      " #   Column                 Non-Null Count  Dtype  \n",
      "---  ------                 --------------  -----  \n",
      " 0   Area(SQM)              8741 non-null   int64  \n",
      " 1   Bedroom                8741 non-null   object \n",
      " 2   Bathroom               8741 non-null   object \n",
      " 3   Location               8741 non-null   object \n",
      " 4   Price                  8741 non-null   int64  \n",
      " 5   Negotiable             8741 non-null   int64  \n",
      " 6   Balcony                8741 non-null   int64  \n",
      " 7   Electricity            8741 non-null   int64  \n",
      " 8   Water                  8741 non-null   int64  \n",
      " 9   Gas                    8741 non-null   int64  \n",
      " 10  Landline               8741 non-null   int64  \n",
      " 11  Elevator               8741 non-null   int64  \n",
      " 12  Security               8741 non-null   int64  \n",
      " 13  Built_in_Kitchen       8741 non-null   int64  \n",
      " 14  Maids_Room             8741 non-null   int64  \n",
      " 15  Private_Garden         8741 non-null   int64  \n",
      " 16  Parking                8741 non-null   int64  \n",
      " 17  Central(A/C)& heating  8741 non-null   int64  \n",
      " 18  Pool                   8741 non-null   int64  \n",
      " 19  Type                   8740 non-null   object \n",
      " 20  Level                  8295 non-null   object \n",
      " 21  Furnished              7216 non-null   float64\n",
      " 22  Compound               538 non-null    object \n",
      " 23  Delivery_Date          5790 non-null   object \n",
      " 24  Delivery_Term          7062 non-null   object \n",
      "dtypes: float64(1), int64(16), object(8)\n",
      "memory usage: 1.7+ MB\n"
     ]
    }
   ],
   "source": [
    "# data information :\n",
    "df.info()"
   ]
  },
  {
   "cell_type": "code",
   "execution_count": 4,
   "metadata": {},
   "outputs": [
    {
     "data": {
      "text/html": [
       "<div>\n",
       "<style scoped>\n",
       "    .dataframe tbody tr th:only-of-type {\n",
       "        vertical-align: middle;\n",
       "    }\n",
       "\n",
       "    .dataframe tbody tr th {\n",
       "        vertical-align: top;\n",
       "    }\n",
       "\n",
       "    .dataframe thead th {\n",
       "        text-align: right;\n",
       "    }\n",
       "</style>\n",
       "<table border=\"1\" class=\"dataframe\">\n",
       "  <thead>\n",
       "    <tr style=\"text-align: right;\">\n",
       "      <th></th>\n",
       "      <th>Area(SQM)</th>\n",
       "      <th>Price</th>\n",
       "      <th>Negotiable</th>\n",
       "      <th>Balcony</th>\n",
       "      <th>Electricity</th>\n",
       "      <th>Water</th>\n",
       "      <th>Gas</th>\n",
       "      <th>Landline</th>\n",
       "      <th>Elevator</th>\n",
       "      <th>Security</th>\n",
       "      <th>Built_in_Kitchen</th>\n",
       "      <th>Maids_Room</th>\n",
       "      <th>Private_Garden</th>\n",
       "      <th>Parking</th>\n",
       "      <th>Central(A/C)&amp; heating</th>\n",
       "      <th>Pool</th>\n",
       "      <th>Furnished</th>\n",
       "    </tr>\n",
       "  </thead>\n",
       "  <tbody>\n",
       "    <tr>\n",
       "      <th>count</th>\n",
       "      <td>8741.000000</td>\n",
       "      <td>8.741000e+03</td>\n",
       "      <td>8741.000000</td>\n",
       "      <td>8741.000000</td>\n",
       "      <td>8741.000000</td>\n",
       "      <td>8741.000000</td>\n",
       "      <td>8741.000000</td>\n",
       "      <td>8741.000000</td>\n",
       "      <td>8741.000000</td>\n",
       "      <td>8741.000000</td>\n",
       "      <td>8741.000000</td>\n",
       "      <td>8741.000000</td>\n",
       "      <td>8741.000000</td>\n",
       "      <td>8741.000000</td>\n",
       "      <td>8741.000000</td>\n",
       "      <td>8741.000000</td>\n",
       "      <td>7216.000000</td>\n",
       "    </tr>\n",
       "    <tr>\n",
       "      <th>mean</th>\n",
       "      <td>140.820615</td>\n",
       "      <td>1.470502e+06</td>\n",
       "      <td>0.438051</td>\n",
       "      <td>0.607024</td>\n",
       "      <td>0.757922</td>\n",
       "      <td>0.742936</td>\n",
       "      <td>0.567784</td>\n",
       "      <td>0.398238</td>\n",
       "      <td>0.616749</td>\n",
       "      <td>0.486443</td>\n",
       "      <td>0.139687</td>\n",
       "      <td>0.099073</td>\n",
       "      <td>0.078366</td>\n",
       "      <td>0.155245</td>\n",
       "      <td>0.061663</td>\n",
       "      <td>0.087862</td>\n",
       "      <td>0.118902</td>\n",
       "    </tr>\n",
       "    <tr>\n",
       "      <th>std</th>\n",
       "      <td>61.690883</td>\n",
       "      <td>2.083523e+06</td>\n",
       "      <td>0.496176</td>\n",
       "      <td>0.488439</td>\n",
       "      <td>0.428366</td>\n",
       "      <td>0.437040</td>\n",
       "      <td>0.495412</td>\n",
       "      <td>0.489563</td>\n",
       "      <td>0.486207</td>\n",
       "      <td>0.499845</td>\n",
       "      <td>0.346681</td>\n",
       "      <td>0.298778</td>\n",
       "      <td>0.268763</td>\n",
       "      <td>0.362159</td>\n",
       "      <td>0.240557</td>\n",
       "      <td>0.283110</td>\n",
       "      <td>0.323696</td>\n",
       "    </tr>\n",
       "    <tr>\n",
       "      <th>min</th>\n",
       "      <td>10.000000</td>\n",
       "      <td>2.000000e+05</td>\n",
       "      <td>0.000000</td>\n",
       "      <td>0.000000</td>\n",
       "      <td>0.000000</td>\n",
       "      <td>0.000000</td>\n",
       "      <td>0.000000</td>\n",
       "      <td>0.000000</td>\n",
       "      <td>0.000000</td>\n",
       "      <td>0.000000</td>\n",
       "      <td>0.000000</td>\n",
       "      <td>0.000000</td>\n",
       "      <td>0.000000</td>\n",
       "      <td>0.000000</td>\n",
       "      <td>0.000000</td>\n",
       "      <td>0.000000</td>\n",
       "      <td>0.000000</td>\n",
       "    </tr>\n",
       "    <tr>\n",
       "      <th>25%</th>\n",
       "      <td>100.000000</td>\n",
       "      <td>3.750000e+05</td>\n",
       "      <td>0.000000</td>\n",
       "      <td>0.000000</td>\n",
       "      <td>1.000000</td>\n",
       "      <td>0.000000</td>\n",
       "      <td>0.000000</td>\n",
       "      <td>0.000000</td>\n",
       "      <td>0.000000</td>\n",
       "      <td>0.000000</td>\n",
       "      <td>0.000000</td>\n",
       "      <td>0.000000</td>\n",
       "      <td>0.000000</td>\n",
       "      <td>0.000000</td>\n",
       "      <td>0.000000</td>\n",
       "      <td>0.000000</td>\n",
       "      <td>0.000000</td>\n",
       "    </tr>\n",
       "    <tr>\n",
       "      <th>50%</th>\n",
       "      <td>125.000000</td>\n",
       "      <td>8.000000e+05</td>\n",
       "      <td>0.000000</td>\n",
       "      <td>1.000000</td>\n",
       "      <td>1.000000</td>\n",
       "      <td>1.000000</td>\n",
       "      <td>1.000000</td>\n",
       "      <td>0.000000</td>\n",
       "      <td>1.000000</td>\n",
       "      <td>0.000000</td>\n",
       "      <td>0.000000</td>\n",
       "      <td>0.000000</td>\n",
       "      <td>0.000000</td>\n",
       "      <td>0.000000</td>\n",
       "      <td>0.000000</td>\n",
       "      <td>0.000000</td>\n",
       "      <td>0.000000</td>\n",
       "    </tr>\n",
       "    <tr>\n",
       "      <th>75%</th>\n",
       "      <td>160.000000</td>\n",
       "      <td>2.000000e+06</td>\n",
       "      <td>1.000000</td>\n",
       "      <td>1.000000</td>\n",
       "      <td>1.000000</td>\n",
       "      <td>1.000000</td>\n",
       "      <td>1.000000</td>\n",
       "      <td>1.000000</td>\n",
       "      <td>1.000000</td>\n",
       "      <td>1.000000</td>\n",
       "      <td>0.000000</td>\n",
       "      <td>0.000000</td>\n",
       "      <td>0.000000</td>\n",
       "      <td>0.000000</td>\n",
       "      <td>0.000000</td>\n",
       "      <td>0.000000</td>\n",
       "      <td>0.000000</td>\n",
       "    </tr>\n",
       "    <tr>\n",
       "      <th>max</th>\n",
       "      <td>900.000000</td>\n",
       "      <td>8.000000e+07</td>\n",
       "      <td>1.000000</td>\n",
       "      <td>1.000000</td>\n",
       "      <td>1.000000</td>\n",
       "      <td>1.000000</td>\n",
       "      <td>1.000000</td>\n",
       "      <td>1.000000</td>\n",
       "      <td>1.000000</td>\n",
       "      <td>1.000000</td>\n",
       "      <td>1.000000</td>\n",
       "      <td>1.000000</td>\n",
       "      <td>1.000000</td>\n",
       "      <td>1.000000</td>\n",
       "      <td>1.000000</td>\n",
       "      <td>1.000000</td>\n",
       "      <td>1.000000</td>\n",
       "    </tr>\n",
       "  </tbody>\n",
       "</table>\n",
       "</div>"
      ],
      "text/plain": [
       "         Area(SQM)         Price   Negotiable      Balcony  Electricity  \\\n",
       "count  8741.000000  8.741000e+03  8741.000000  8741.000000  8741.000000   \n",
       "mean    140.820615  1.470502e+06     0.438051     0.607024     0.757922   \n",
       "std      61.690883  2.083523e+06     0.496176     0.488439     0.428366   \n",
       "min      10.000000  2.000000e+05     0.000000     0.000000     0.000000   \n",
       "25%     100.000000  3.750000e+05     0.000000     0.000000     1.000000   \n",
       "50%     125.000000  8.000000e+05     0.000000     1.000000     1.000000   \n",
       "75%     160.000000  2.000000e+06     1.000000     1.000000     1.000000   \n",
       "max     900.000000  8.000000e+07     1.000000     1.000000     1.000000   \n",
       "\n",
       "             Water          Gas     Landline     Elevator     Security  \\\n",
       "count  8741.000000  8741.000000  8741.000000  8741.000000  8741.000000   \n",
       "mean      0.742936     0.567784     0.398238     0.616749     0.486443   \n",
       "std       0.437040     0.495412     0.489563     0.486207     0.499845   \n",
       "min       0.000000     0.000000     0.000000     0.000000     0.000000   \n",
       "25%       0.000000     0.000000     0.000000     0.000000     0.000000   \n",
       "50%       1.000000     1.000000     0.000000     1.000000     0.000000   \n",
       "75%       1.000000     1.000000     1.000000     1.000000     1.000000   \n",
       "max       1.000000     1.000000     1.000000     1.000000     1.000000   \n",
       "\n",
       "       Built_in_Kitchen   Maids_Room  Private_Garden      Parking  \\\n",
       "count       8741.000000  8741.000000     8741.000000  8741.000000   \n",
       "mean           0.139687     0.099073        0.078366     0.155245   \n",
       "std            0.346681     0.298778        0.268763     0.362159   \n",
       "min            0.000000     0.000000        0.000000     0.000000   \n",
       "25%            0.000000     0.000000        0.000000     0.000000   \n",
       "50%            0.000000     0.000000        0.000000     0.000000   \n",
       "75%            0.000000     0.000000        0.000000     0.000000   \n",
       "max            1.000000     1.000000        1.000000     1.000000   \n",
       "\n",
       "       Central(A/C)& heating         Pool    Furnished  \n",
       "count            8741.000000  8741.000000  7216.000000  \n",
       "mean                0.061663     0.087862     0.118902  \n",
       "std                 0.240557     0.283110     0.323696  \n",
       "min                 0.000000     0.000000     0.000000  \n",
       "25%                 0.000000     0.000000     0.000000  \n",
       "50%                 0.000000     0.000000     0.000000  \n",
       "75%                 0.000000     0.000000     0.000000  \n",
       "max                 1.000000     1.000000     1.000000  "
      ]
     },
     "execution_count": 4,
     "metadata": {},
     "output_type": "execute_result"
    }
   ],
   "source": [
    "df.describe()"
   ]
  },
  {
   "cell_type": "markdown",
   "metadata": {},
   "source": [
    "## Data Cleaning :"
   ]
  },
  {
   "cell_type": "markdown",
   "metadata": {},
   "source": [
    "### Area :"
   ]
  },
  {
   "cell_type": "code",
   "execution_count": 5,
   "metadata": {},
   "outputs": [
    {
     "data": {
      "image/png": "[encoded data removed]",
      "text/plain": [
       "<Figure size 432x288 with 1 Axes>"
      ]
     },
     "metadata": {
      "needs_background": "light"
     },
     "output_type": "display_data"
    }
   ],
   "source": [
    "# Use Boxplot to visualize the distribution values :\n",
    "sb.boxplot(data = df, x = 'Area(SQM)');"
   ]
  },
  {
   "cell_type": "code",
   "execution_count": 6,
   "metadata": {
    "scrolled": false
   },
   "outputs": [
    {
     "data": {
      "image/png": "[encoded data removed]",
      "text/plain": [
       "<Figure size 1080x720 with 4 Axes>"
      ]
     },
     "metadata": {
      "needs_background": "light"
     },
     "output_type": "display_data"
    }
   ],
   "source": [
    "plt.figure(figsize = [15,10]);\n",
    "plt.subplot(2,2,1);\n",
    "plt.hist(data = df, x = 'Area(SQM)', bins = 50);\n",
    "plt.xlabel(\"Area of House .. fig(1)\");\n",
    "plt.ylabel('Count');\n",
    "\n",
    "# Limiting Data to visalize Area between (0,400) :\n",
    "plt.subplot(2,2,2);\n",
    "plt.hist(data = df, x = 'Area(SQM)', bins = 70);\n",
    "plt.xlim([0,400]);\n",
    "plt.xlabel('Area of House .. fig(2)');\n",
    "plt.ylabel('Count');\n",
    "\n",
    "plt.subplot(2,2,3);\n",
    "bins_range = 10**np.arange(1, 3, 0.06)\n",
    "ticks = [1,3,10,30,100,300,1000]\n",
    "labels = ['{}'.format(i) for i in ticks]\n",
    "plt.hist(data = df, x = 'Area(SQM)', bins = bins_range);\n",
    "plt.xscale('log');\n",
    "plt.xticks(ticks,labels);\n",
    "plt.xlabel('Area of House \"log\" scale .. fig(3)');\n",
    "plt.ylabel('Count');\n",
    "\n",
    "plt.subplot(2,2,4);\n",
    "bins_range = 10**np.arange(1, 3, 0.03)\n",
    "ticks = [40,60,100,200,400,600]\n",
    "labels = ['{}'.format(i) for i in ticks]\n",
    "plt.hist(data = df, x = 'Area(SQM)', bins = bins_range);\n",
    "plt.xscale('log');\n",
    "plt.xticks(ticks,labels);\n",
    "plt.xlim([40,1000]);\n",
    "plt.xlabel('Area of House \"log\" scale .. fig(4)');\n",
    "plt.ylabel('Count');"
   ]
  },
  {
   "cell_type": "code",
   "execution_count": 7,
   "metadata": {
    "scrolled": true
   },
   "outputs": [
    {
     "data": {
      "text/plain": [
       "count    3.941561\n",
       "mean     2.148666\n",
       "std      1.790221\n",
       "min      1.000000\n",
       "25%      2.000000\n",
       "50%      2.096910\n",
       "75%      2.204120\n",
       "max      2.954243\n",
       "Name: Area(SQM), dtype: float64"
      ]
     },
     "execution_count": 7,
     "metadata": {},
     "output_type": "execute_result"
    }
   ],
   "source": [
    "# determine the bins range passed on logarithmic values of (Area) :\n",
    "np.log10(df['Area(SQM)'].describe())"
   ]
  },
  {
   "cell_type": "markdown",
   "metadata": {},
   "source": [
    "* From figure 1 we can note that the number of records with area > 400 is very low, so we will tend to limit our visualization of area from 0 to 400 as we see in fig(2).\n",
    "\n",
    "* In figure 3 we used 'log' scale for x-axis to better visualizing data and we noted that there are some records with area < 40 sqm , those values tend to be outliers, we removed those records from visualization as we see in fig(4)"
   ]
  },
  {
   "cell_type": "code",
   "execution_count": 8,
   "metadata": {},
   "outputs": [
    {
     "data": {
      "text/html": [
       "<div>\n",
       "<style scoped>\n",
       "    .dataframe tbody tr th:only-of-type {\n",
       "        vertical-align: middle;\n",
       "    }\n",
       "\n",
       "    .dataframe tbody tr th {\n",
       "        vertical-align: top;\n",
       "    }\n",
       "\n",
       "    .dataframe thead th {\n",
       "        text-align: right;\n",
       "    }\n",
       "</style>\n",
       "<table border=\"1\" class=\"dataframe\">\n",
       "  <thead>\n",
       "    <tr style=\"text-align: right;\">\n",
       "      <th></th>\n",
       "      <th>Area(SQM)</th>\n",
       "      <th>Bedroom</th>\n",
       "      <th>Bathroom</th>\n",
       "      <th>Location</th>\n",
       "      <th>Price</th>\n",
       "      <th>Negotiable</th>\n",
       "      <th>Balcony</th>\n",
       "      <th>Electricity</th>\n",
       "      <th>Water</th>\n",
       "      <th>Gas</th>\n",
       "      <th>Landline</th>\n",
       "      <th>Elevator</th>\n",
       "      <th>Security</th>\n",
       "      <th>Built_in_Kitchen</th>\n",
       "      <th>Maids_Room</th>\n",
       "      <th>Private_Garden</th>\n",
       "      <th>Parking</th>\n",
       "      <th>Central(A/C)&amp; heating</th>\n",
       "      <th>Pool</th>\n",
       "      <th>Type</th>\n",
       "      <th>Level</th>\n",
       "      <th>Furnished</th>\n",
       "      <th>Compound</th>\n",
       "      <th>Delivery_Date</th>\n",
       "      <th>Delivery_Term</th>\n",
       "    </tr>\n",
       "  </thead>\n",
       "  <tbody>\n",
       "    <tr>\n",
       "      <th>492</th>\n",
       "      <td>32</td>\n",
       "      <td>2</td>\n",
       "      <td>1</td>\n",
       "      <td>Attarin</td>\n",
       "      <td>250000</td>\n",
       "      <td>0</td>\n",
       "      <td>0</td>\n",
       "      <td>1</td>\n",
       "      <td>1</td>\n",
       "      <td>1</td>\n",
       "      <td>0</td>\n",
       "      <td>0</td>\n",
       "      <td>0</td>\n",
       "      <td>0</td>\n",
       "      <td>0</td>\n",
       "      <td>0</td>\n",
       "      <td>0</td>\n",
       "      <td>0</td>\n",
       "      <td>0</td>\n",
       "      <td>Studio</td>\n",
       "      <td>1</td>\n",
       "      <td>NaN</td>\n",
       "      <td>NaN</td>\n",
       "      <td>soon</td>\n",
       "      <td>Finished</td>\n",
       "    </tr>\n",
       "    <tr>\n",
       "      <th>1716</th>\n",
       "      <td>14</td>\n",
       "      <td>2</td>\n",
       "      <td>1</td>\n",
       "      <td>Nakheel</td>\n",
       "      <td>265000</td>\n",
       "      <td>0</td>\n",
       "      <td>1</td>\n",
       "      <td>1</td>\n",
       "      <td>1</td>\n",
       "      <td>0</td>\n",
       "      <td>0</td>\n",
       "      <td>0</td>\n",
       "      <td>1</td>\n",
       "      <td>1</td>\n",
       "      <td>0</td>\n",
       "      <td>0</td>\n",
       "      <td>0</td>\n",
       "      <td>0</td>\n",
       "      <td>1</td>\n",
       "      <td>Studio</td>\n",
       "      <td>NaN</td>\n",
       "      <td>0.0</td>\n",
       "      <td>NaN</td>\n",
       "      <td>Ready</td>\n",
       "      <td>Finished</td>\n",
       "    </tr>\n",
       "    <tr>\n",
       "      <th>1758</th>\n",
       "      <td>17</td>\n",
       "      <td>3</td>\n",
       "      <td>2</td>\n",
       "      <td>Raml Station</td>\n",
       "      <td>3000000</td>\n",
       "      <td>0</td>\n",
       "      <td>1</td>\n",
       "      <td>1</td>\n",
       "      <td>1</td>\n",
       "      <td>1</td>\n",
       "      <td>0</td>\n",
       "      <td>1</td>\n",
       "      <td>1</td>\n",
       "      <td>0</td>\n",
       "      <td>0</td>\n",
       "      <td>0</td>\n",
       "      <td>0</td>\n",
       "      <td>0</td>\n",
       "      <td>0</td>\n",
       "      <td>Apartment</td>\n",
       "      <td>10+</td>\n",
       "      <td>0.0</td>\n",
       "      <td>NaN</td>\n",
       "      <td>NaN</td>\n",
       "      <td>Finished</td>\n",
       "    </tr>\n",
       "    <tr>\n",
       "      <th>2828</th>\n",
       "      <td>10</td>\n",
       "      <td>3</td>\n",
       "      <td>2</td>\n",
       "      <td>Laurent</td>\n",
       "      <td>1700000</td>\n",
       "      <td>0</td>\n",
       "      <td>0</td>\n",
       "      <td>1</td>\n",
       "      <td>1</td>\n",
       "      <td>1</td>\n",
       "      <td>1</td>\n",
       "      <td>1</td>\n",
       "      <td>1</td>\n",
       "      <td>0</td>\n",
       "      <td>0</td>\n",
       "      <td>0</td>\n",
       "      <td>0</td>\n",
       "      <td>0</td>\n",
       "      <td>0</td>\n",
       "      <td>Apartment</td>\n",
       "      <td>10+</td>\n",
       "      <td>0.0</td>\n",
       "      <td>NaN</td>\n",
       "      <td>Ready</td>\n",
       "      <td>NaN</td>\n",
       "    </tr>\n",
       "    <tr>\n",
       "      <th>3292</th>\n",
       "      <td>35</td>\n",
       "      <td>1</td>\n",
       "      <td>1</td>\n",
       "      <td>Cleopatra</td>\n",
       "      <td>950000</td>\n",
       "      <td>1</td>\n",
       "      <td>0</td>\n",
       "      <td>0</td>\n",
       "      <td>0</td>\n",
       "      <td>0</td>\n",
       "      <td>0</td>\n",
       "      <td>0</td>\n",
       "      <td>0</td>\n",
       "      <td>0</td>\n",
       "      <td>0</td>\n",
       "      <td>0</td>\n",
       "      <td>0</td>\n",
       "      <td>1</td>\n",
       "      <td>0</td>\n",
       "      <td>Studio</td>\n",
       "      <td>1</td>\n",
       "      <td>0.0</td>\n",
       "      <td>NaN</td>\n",
       "      <td>2022</td>\n",
       "      <td>Not Finished</td>\n",
       "    </tr>\n",
       "    <tr>\n",
       "      <th>3308</th>\n",
       "      <td>13</td>\n",
       "      <td>2</td>\n",
       "      <td>1</td>\n",
       "      <td>Roushdy</td>\n",
       "      <td>2800000</td>\n",
       "      <td>1</td>\n",
       "      <td>1</td>\n",
       "      <td>1</td>\n",
       "      <td>1</td>\n",
       "      <td>1</td>\n",
       "      <td>1</td>\n",
       "      <td>1</td>\n",
       "      <td>1</td>\n",
       "      <td>1</td>\n",
       "      <td>0</td>\n",
       "      <td>0</td>\n",
       "      <td>0</td>\n",
       "      <td>0</td>\n",
       "      <td>0</td>\n",
       "      <td>Apartment</td>\n",
       "      <td>7</td>\n",
       "      <td>1.0</td>\n",
       "      <td>NaN</td>\n",
       "      <td>soon</td>\n",
       "      <td>Finished</td>\n",
       "    </tr>\n",
       "    <tr>\n",
       "      <th>3317</th>\n",
       "      <td>20</td>\n",
       "      <td>1</td>\n",
       "      <td>1</td>\n",
       "      <td>Stanley</td>\n",
       "      <td>560000</td>\n",
       "      <td>0</td>\n",
       "      <td>1</td>\n",
       "      <td>1</td>\n",
       "      <td>1</td>\n",
       "      <td>1</td>\n",
       "      <td>1</td>\n",
       "      <td>1</td>\n",
       "      <td>1</td>\n",
       "      <td>0</td>\n",
       "      <td>0</td>\n",
       "      <td>0</td>\n",
       "      <td>1</td>\n",
       "      <td>1</td>\n",
       "      <td>0</td>\n",
       "      <td>Apartment</td>\n",
       "      <td>7</td>\n",
       "      <td>NaN</td>\n",
       "      <td>NaN</td>\n",
       "      <td>2025</td>\n",
       "      <td>NaN</td>\n",
       "    </tr>\n",
       "    <tr>\n",
       "      <th>3324</th>\n",
       "      <td>10</td>\n",
       "      <td>3</td>\n",
       "      <td>1</td>\n",
       "      <td>Agami</td>\n",
       "      <td>320000</td>\n",
       "      <td>0</td>\n",
       "      <td>0</td>\n",
       "      <td>0</td>\n",
       "      <td>0</td>\n",
       "      <td>0</td>\n",
       "      <td>0</td>\n",
       "      <td>1</td>\n",
       "      <td>0</td>\n",
       "      <td>0</td>\n",
       "      <td>0</td>\n",
       "      <td>0</td>\n",
       "      <td>0</td>\n",
       "      <td>0</td>\n",
       "      <td>0</td>\n",
       "      <td>Apartment</td>\n",
       "      <td>2</td>\n",
       "      <td>NaN</td>\n",
       "      <td>NaN</td>\n",
       "      <td>Ready</td>\n",
       "      <td>Finished</td>\n",
       "    </tr>\n",
       "    <tr>\n",
       "      <th>3474</th>\n",
       "      <td>10</td>\n",
       "      <td>10+</td>\n",
       "      <td>6</td>\n",
       "      <td>Agami</td>\n",
       "      <td>800000</td>\n",
       "      <td>1</td>\n",
       "      <td>0</td>\n",
       "      <td>1</td>\n",
       "      <td>1</td>\n",
       "      <td>0</td>\n",
       "      <td>0</td>\n",
       "      <td>0</td>\n",
       "      <td>0</td>\n",
       "      <td>0</td>\n",
       "      <td>0</td>\n",
       "      <td>1</td>\n",
       "      <td>0</td>\n",
       "      <td>0</td>\n",
       "      <td>0</td>\n",
       "      <td>Apartment</td>\n",
       "      <td>3</td>\n",
       "      <td>0.0</td>\n",
       "      <td>NaN</td>\n",
       "      <td>NaN</td>\n",
       "      <td>Semi Finished</td>\n",
       "    </tr>\n",
       "    <tr>\n",
       "      <th>4872</th>\n",
       "      <td>33</td>\n",
       "      <td>2</td>\n",
       "      <td>1</td>\n",
       "      <td>El Max</td>\n",
       "      <td>300000</td>\n",
       "      <td>1</td>\n",
       "      <td>0</td>\n",
       "      <td>1</td>\n",
       "      <td>1</td>\n",
       "      <td>1</td>\n",
       "      <td>0</td>\n",
       "      <td>0</td>\n",
       "      <td>1</td>\n",
       "      <td>0</td>\n",
       "      <td>0</td>\n",
       "      <td>0</td>\n",
       "      <td>0</td>\n",
       "      <td>0</td>\n",
       "      <td>0</td>\n",
       "      <td>Duplex</td>\n",
       "      <td>3</td>\n",
       "      <td>0.0</td>\n",
       "      <td>Amorada</td>\n",
       "      <td>Ready</td>\n",
       "      <td>Finished</td>\n",
       "    </tr>\n",
       "    <tr>\n",
       "      <th>5059</th>\n",
       "      <td>10</td>\n",
       "      <td>2</td>\n",
       "      <td>1</td>\n",
       "      <td>Al Hadrah</td>\n",
       "      <td>250000</td>\n",
       "      <td>0</td>\n",
       "      <td>0</td>\n",
       "      <td>0</td>\n",
       "      <td>0</td>\n",
       "      <td>0</td>\n",
       "      <td>0</td>\n",
       "      <td>0</td>\n",
       "      <td>0</td>\n",
       "      <td>0</td>\n",
       "      <td>0</td>\n",
       "      <td>0</td>\n",
       "      <td>0</td>\n",
       "      <td>0</td>\n",
       "      <td>0</td>\n",
       "      <td>Apartment</td>\n",
       "      <td>6</td>\n",
       "      <td>0.0</td>\n",
       "      <td>NaN</td>\n",
       "      <td>NaN</td>\n",
       "      <td>NaN</td>\n",
       "    </tr>\n",
       "    <tr>\n",
       "      <th>6749</th>\n",
       "      <td>10</td>\n",
       "      <td>3</td>\n",
       "      <td>1</td>\n",
       "      <td>Moharam Bik</td>\n",
       "      <td>780000</td>\n",
       "      <td>0</td>\n",
       "      <td>1</td>\n",
       "      <td>1</td>\n",
       "      <td>1</td>\n",
       "      <td>1</td>\n",
       "      <td>1</td>\n",
       "      <td>1</td>\n",
       "      <td>0</td>\n",
       "      <td>0</td>\n",
       "      <td>0</td>\n",
       "      <td>0</td>\n",
       "      <td>0</td>\n",
       "      <td>0</td>\n",
       "      <td>0</td>\n",
       "      <td>Apartment</td>\n",
       "      <td>8</td>\n",
       "      <td>0.0</td>\n",
       "      <td>NaN</td>\n",
       "      <td>NaN</td>\n",
       "      <td>Finished</td>\n",
       "    </tr>\n",
       "    <tr>\n",
       "      <th>7472</th>\n",
       "      <td>12</td>\n",
       "      <td>1</td>\n",
       "      <td>1</td>\n",
       "      <td>Smoha</td>\n",
       "      <td>320000</td>\n",
       "      <td>0</td>\n",
       "      <td>0</td>\n",
       "      <td>0</td>\n",
       "      <td>0</td>\n",
       "      <td>0</td>\n",
       "      <td>0</td>\n",
       "      <td>0</td>\n",
       "      <td>0</td>\n",
       "      <td>0</td>\n",
       "      <td>0</td>\n",
       "      <td>0</td>\n",
       "      <td>1</td>\n",
       "      <td>0</td>\n",
       "      <td>0</td>\n",
       "      <td>Apartment</td>\n",
       "      <td>NaN</td>\n",
       "      <td>1.0</td>\n",
       "      <td>NaN</td>\n",
       "      <td>Ready</td>\n",
       "      <td>Finished</td>\n",
       "    </tr>\n",
       "    <tr>\n",
       "      <th>8271</th>\n",
       "      <td>12</td>\n",
       "      <td>2</td>\n",
       "      <td>2</td>\n",
       "      <td>Nakheel</td>\n",
       "      <td>695000</td>\n",
       "      <td>1</td>\n",
       "      <td>1</td>\n",
       "      <td>1</td>\n",
       "      <td>1</td>\n",
       "      <td>1</td>\n",
       "      <td>1</td>\n",
       "      <td>1</td>\n",
       "      <td>1</td>\n",
       "      <td>1</td>\n",
       "      <td>1</td>\n",
       "      <td>1</td>\n",
       "      <td>1</td>\n",
       "      <td>1</td>\n",
       "      <td>1</td>\n",
       "      <td>Apartment</td>\n",
       "      <td>2</td>\n",
       "      <td>0.0</td>\n",
       "      <td>NaN</td>\n",
       "      <td>Ready</td>\n",
       "      <td>NaN</td>\n",
       "    </tr>\n",
       "  </tbody>\n",
       "</table>\n",
       "</div>"
      ],
      "text/plain": [
       "      Area(SQM) Bedroom Bathroom      Location    Price  Negotiable  Balcony  \\\n",
       "492          32       2        1       Attarin   250000           0        0   \n",
       "1716         14       2        1       Nakheel   265000           0        1   \n",
       "1758         17       3        2  Raml Station  3000000           0        1   \n",
       "2828         10       3        2       Laurent  1700000           0        0   \n",
       "3292         35       1        1     Cleopatra   950000           1        0   \n",
       "3308         13       2        1       Roushdy  2800000           1        1   \n",
       "3317         20       1        1       Stanley   560000           0        1   \n",
       "3324         10       3        1         Agami   320000           0        0   \n",
       "3474         10     10+        6         Agami   800000           1        0   \n",
       "4872         33       2        1        El Max   300000           1        0   \n",
       "5059         10       2        1     Al Hadrah   250000           0        0   \n",
       "6749         10       3        1   Moharam Bik   780000           0        1   \n",
       "7472         12       1        1         Smoha   320000           0        0   \n",
       "8271         12       2        2       Nakheel   695000           1        1   \n",
       "\n",
       "      Electricity  Water  Gas  Landline  Elevator  Security  Built_in_Kitchen  \\\n",
       "492             1      1    1         0         0         0                 0   \n",
       "1716            1      1    0         0         0         1                 1   \n",
       "1758            1      1    1         0         1         1                 0   \n",
       "2828            1      1    1         1         1         1                 0   \n",
       "3292            0      0    0         0         0         0                 0   \n",
       "3308            1      1    1         1         1         1                 1   \n",
       "3317            1      1    1         1         1         1                 0   \n",
       "3324            0      0    0         0         1         0                 0   \n",
       "3474            1      1    0         0         0         0                 0   \n",
       "4872            1      1    1         0         0         1                 0   \n",
       "5059            0      0    0         0         0         0                 0   \n",
       "6749            1      1    1         1         1         0                 0   \n",
       "7472            0      0    0         0         0         0                 0   \n",
       "8271            1      1    1         1         1         1                 1   \n",
       "\n",
       "      Maids_Room  Private_Garden  Parking  Central(A/C)& heating  Pool  \\\n",
       "492            0               0        0                      0     0   \n",
       "1716           0               0        0                      0     1   \n",
       "1758           0               0        0                      0     0   \n",
       "2828           0               0        0                      0     0   \n",
       "3292           0               0        0                      1     0   \n",
       "3308           0               0        0                      0     0   \n",
       "3317           0               0        1                      1     0   \n",
       "3324           0               0        0                      0     0   \n",
       "3474           0               1        0                      0     0   \n",
       "4872           0               0        0                      0     0   \n",
       "5059           0               0        0                      0     0   \n",
       "6749           0               0        0                      0     0   \n",
       "7472           0               0        1                      0     0   \n",
       "8271           1               1        1                      1     1   \n",
       "\n",
       "           Type Level  Furnished Compound Delivery_Date  Delivery_Term  \n",
       "492      Studio     1        NaN      NaN          soon       Finished  \n",
       "1716     Studio   NaN        0.0      NaN         Ready       Finished  \n",
       "1758  Apartment   10+        0.0      NaN           NaN       Finished  \n",
       "2828  Apartment   10+        0.0      NaN         Ready            NaN  \n",
       "3292     Studio     1        0.0      NaN          2022   Not Finished  \n",
       "3308  Apartment     7        1.0      NaN          soon       Finished  \n",
       "3317  Apartment     7        NaN      NaN          2025            NaN  \n",
       "3324  Apartment     2        NaN      NaN         Ready       Finished  \n",
       "3474  Apartment     3        0.0      NaN           NaN  Semi Finished  \n",
       "4872     Duplex     3        0.0  Amorada         Ready       Finished  \n",
       "5059  Apartment     6        0.0      NaN           NaN            NaN  \n",
       "6749  Apartment     8        0.0      NaN           NaN       Finished  \n",
       "7472  Apartment   NaN        1.0      NaN         Ready       Finished  \n",
       "8271  Apartment     2        0.0      NaN         Ready            NaN  "
      ]
     },
     "execution_count": 8,
     "metadata": {},
     "output_type": "execute_result"
    }
   ],
   "source": [
    "# detect records less than 40 sqm :\n",
    "df[df['Area(SQM)'] < 40] "
   ]
  },
  {
   "cell_type": "code",
   "execution_count": 9,
   "metadata": {},
   "outputs": [],
   "source": [
    "# remove outliers :\n",
    "df = df[df['Area(SQM)'] >= 40] "
   ]
  },
  {
   "cell_type": "markdown",
   "metadata": {},
   "source": [
    "* From fig(3) and fig (4) we can see that Area is Normally destributed in log scale."
   ]
  },
  {
   "cell_type": "markdown",
   "metadata": {},
   "source": [
    "* Now we want to detect outliers which can't observed from visualization using IQR :"
   ]
  },
  {
   "cell_type": "code",
   "execution_count": 10,
   "metadata": {
    "scrolled": true
   },
   "outputs": [
    {
     "data": {
      "text/plain": [
       "count    8727.000000\n",
       "mean      141.019251\n",
       "std        61.539448\n",
       "min        40.000000\n",
       "25%       100.000000\n",
       "50%       125.000000\n",
       "75%       160.000000\n",
       "max       900.000000\n",
       "Name: Area(SQM), dtype: float64"
      ]
     },
     "execution_count": 10,
     "metadata": {},
     "output_type": "execute_result"
    }
   ],
   "source": [
    "df['Area(SQM)'].describe()"
   ]
  },
  {
   "cell_type": "markdown",
   "metadata": {},
   "source": [
    "* 50% of the apartments for sale are between 100 to 160 square meters Area."
   ]
  },
  {
   "cell_type": "code",
   "execution_count": 11,
   "metadata": {},
   "outputs": [
    {
     "data": {
      "text/plain": [
       "250.0"
      ]
     },
     "execution_count": 11,
     "metadata": {},
     "output_type": "execute_result"
    }
   ],
   "source": [
    "# Calculate IQR :\n",
    "IQR = df['Area(SQM)'].quantile(0.75) - df['Area(SQM)'].quantile(0.25)\n",
    "df['Area(SQM)'].quantile(0.75) + (IQR * 1.5)"
   ]
  },
  {
   "cell_type": "code",
   "execution_count": 12,
   "metadata": {},
   "outputs": [
    {
     "data": {
      "text/html": [
       "<div>\n",
       "<style scoped>\n",
       "    .dataframe tbody tr th:only-of-type {\n",
       "        vertical-align: middle;\n",
       "    }\n",
       "\n",
       "    .dataframe tbody tr th {\n",
       "        vertical-align: top;\n",
       "    }\n",
       "\n",
       "    .dataframe thead th {\n",
       "        text-align: right;\n",
       "    }\n",
       "</style>\n",
       "<table border=\"1\" class=\"dataframe\">\n",
       "  <thead>\n",
       "    <tr style=\"text-align: right;\">\n",
       "      <th></th>\n",
       "      <th>Area(SQM)</th>\n",
       "      <th>Bedroom</th>\n",
       "      <th>Bathroom</th>\n",
       "      <th>Location</th>\n",
       "      <th>Price</th>\n",
       "      <th>Negotiable</th>\n",
       "      <th>Balcony</th>\n",
       "      <th>Electricity</th>\n",
       "      <th>Water</th>\n",
       "      <th>Gas</th>\n",
       "      <th>Landline</th>\n",
       "      <th>Elevator</th>\n",
       "      <th>Security</th>\n",
       "      <th>Built_in_Kitchen</th>\n",
       "      <th>Maids_Room</th>\n",
       "      <th>Private_Garden</th>\n",
       "      <th>Parking</th>\n",
       "      <th>Central(A/C)&amp; heating</th>\n",
       "      <th>Pool</th>\n",
       "      <th>Type</th>\n",
       "      <th>Level</th>\n",
       "      <th>Furnished</th>\n",
       "      <th>Compound</th>\n",
       "      <th>Delivery_Date</th>\n",
       "      <th>Delivery_Term</th>\n",
       "    </tr>\n",
       "  </thead>\n",
       "  <tbody>\n",
       "    <tr>\n",
       "      <th>12</th>\n",
       "      <td>260</td>\n",
       "      <td>3</td>\n",
       "      <td>3</td>\n",
       "      <td>Smoha</td>\n",
       "      <td>1500000</td>\n",
       "      <td>1</td>\n",
       "      <td>1</td>\n",
       "      <td>0</td>\n",
       "      <td>0</td>\n",
       "      <td>0</td>\n",
       "      <td>0</td>\n",
       "      <td>1</td>\n",
       "      <td>1</td>\n",
       "      <td>0</td>\n",
       "      <td>0</td>\n",
       "      <td>0</td>\n",
       "      <td>1</td>\n",
       "      <td>0</td>\n",
       "      <td>0</td>\n",
       "      <td>Apartment</td>\n",
       "      <td>6</td>\n",
       "      <td>0.0</td>\n",
       "      <td>NaN</td>\n",
       "      <td>2023</td>\n",
       "      <td>Finished</td>\n",
       "    </tr>\n",
       "    <tr>\n",
       "      <th>46</th>\n",
       "      <td>310</td>\n",
       "      <td>3</td>\n",
       "      <td>3</td>\n",
       "      <td>Kafr Abdo</td>\n",
       "      <td>6500000</td>\n",
       "      <td>0</td>\n",
       "      <td>0</td>\n",
       "      <td>1</td>\n",
       "      <td>1</td>\n",
       "      <td>0</td>\n",
       "      <td>0</td>\n",
       "      <td>0</td>\n",
       "      <td>0</td>\n",
       "      <td>0</td>\n",
       "      <td>0</td>\n",
       "      <td>0</td>\n",
       "      <td>0</td>\n",
       "      <td>0</td>\n",
       "      <td>0</td>\n",
       "      <td>Apartment</td>\n",
       "      <td>7</td>\n",
       "      <td>NaN</td>\n",
       "      <td>NaN</td>\n",
       "      <td>NaN</td>\n",
       "      <td>Finished</td>\n",
       "    </tr>\n",
       "    <tr>\n",
       "      <th>50</th>\n",
       "      <td>288</td>\n",
       "      <td>4</td>\n",
       "      <td>3</td>\n",
       "      <td>Smoha</td>\n",
       "      <td>4100000</td>\n",
       "      <td>0</td>\n",
       "      <td>1</td>\n",
       "      <td>1</td>\n",
       "      <td>1</td>\n",
       "      <td>1</td>\n",
       "      <td>0</td>\n",
       "      <td>1</td>\n",
       "      <td>1</td>\n",
       "      <td>0</td>\n",
       "      <td>0</td>\n",
       "      <td>0</td>\n",
       "      <td>0</td>\n",
       "      <td>0</td>\n",
       "      <td>0</td>\n",
       "      <td>Apartment</td>\n",
       "      <td>2</td>\n",
       "      <td>0.0</td>\n",
       "      <td>NaN</td>\n",
       "      <td>NaN</td>\n",
       "      <td>NaN</td>\n",
       "    </tr>\n",
       "    <tr>\n",
       "      <th>98</th>\n",
       "      <td>292</td>\n",
       "      <td>4</td>\n",
       "      <td>3</td>\n",
       "      <td>Saba Pasha</td>\n",
       "      <td>13000000</td>\n",
       "      <td>0</td>\n",
       "      <td>0</td>\n",
       "      <td>0</td>\n",
       "      <td>0</td>\n",
       "      <td>0</td>\n",
       "      <td>0</td>\n",
       "      <td>0</td>\n",
       "      <td>0</td>\n",
       "      <td>0</td>\n",
       "      <td>0</td>\n",
       "      <td>0</td>\n",
       "      <td>0</td>\n",
       "      <td>0</td>\n",
       "      <td>0</td>\n",
       "      <td>Apartment</td>\n",
       "      <td>10+</td>\n",
       "      <td>1.0</td>\n",
       "      <td>NaN</td>\n",
       "      <td>Ready</td>\n",
       "      <td>Finished</td>\n",
       "    </tr>\n",
       "    <tr>\n",
       "      <th>114</th>\n",
       "      <td>306</td>\n",
       "      <td>4</td>\n",
       "      <td>2</td>\n",
       "      <td>Smoha</td>\n",
       "      <td>3100000</td>\n",
       "      <td>1</td>\n",
       "      <td>1</td>\n",
       "      <td>1</td>\n",
       "      <td>1</td>\n",
       "      <td>1</td>\n",
       "      <td>1</td>\n",
       "      <td>1</td>\n",
       "      <td>1</td>\n",
       "      <td>0</td>\n",
       "      <td>0</td>\n",
       "      <td>0</td>\n",
       "      <td>0</td>\n",
       "      <td>0</td>\n",
       "      <td>0</td>\n",
       "      <td>Duplex</td>\n",
       "      <td>8</td>\n",
       "      <td>1.0</td>\n",
       "      <td>NaN</td>\n",
       "      <td>Ready</td>\n",
       "      <td>Finished</td>\n",
       "    </tr>\n",
       "    <tr>\n",
       "      <th>...</th>\n",
       "      <td>...</td>\n",
       "      <td>...</td>\n",
       "      <td>...</td>\n",
       "      <td>...</td>\n",
       "      <td>...</td>\n",
       "      <td>...</td>\n",
       "      <td>...</td>\n",
       "      <td>...</td>\n",
       "      <td>...</td>\n",
       "      <td>...</td>\n",
       "      <td>...</td>\n",
       "      <td>...</td>\n",
       "      <td>...</td>\n",
       "      <td>...</td>\n",
       "      <td>...</td>\n",
       "      <td>...</td>\n",
       "      <td>...</td>\n",
       "      <td>...</td>\n",
       "      <td>...</td>\n",
       "      <td>...</td>\n",
       "      <td>...</td>\n",
       "      <td>...</td>\n",
       "      <td>...</td>\n",
       "      <td>...</td>\n",
       "      <td>...</td>\n",
       "    </tr>\n",
       "    <tr>\n",
       "      <th>8715</th>\n",
       "      <td>280</td>\n",
       "      <td>3</td>\n",
       "      <td>2</td>\n",
       "      <td>Agami</td>\n",
       "      <td>450000</td>\n",
       "      <td>0</td>\n",
       "      <td>0</td>\n",
       "      <td>1</td>\n",
       "      <td>1</td>\n",
       "      <td>1</td>\n",
       "      <td>0</td>\n",
       "      <td>1</td>\n",
       "      <td>1</td>\n",
       "      <td>0</td>\n",
       "      <td>0</td>\n",
       "      <td>0</td>\n",
       "      <td>0</td>\n",
       "      <td>0</td>\n",
       "      <td>0</td>\n",
       "      <td>Duplex</td>\n",
       "      <td>8</td>\n",
       "      <td>NaN</td>\n",
       "      <td>NaN</td>\n",
       "      <td>NaN</td>\n",
       "      <td>Not Finished</td>\n",
       "    </tr>\n",
       "    <tr>\n",
       "      <th>8722</th>\n",
       "      <td>327</td>\n",
       "      <td>4</td>\n",
       "      <td>3</td>\n",
       "      <td>Azarita</td>\n",
       "      <td>8047470</td>\n",
       "      <td>0</td>\n",
       "      <td>0</td>\n",
       "      <td>1</td>\n",
       "      <td>1</td>\n",
       "      <td>1</td>\n",
       "      <td>1</td>\n",
       "      <td>1</td>\n",
       "      <td>1</td>\n",
       "      <td>0</td>\n",
       "      <td>0</td>\n",
       "      <td>0</td>\n",
       "      <td>0</td>\n",
       "      <td>1</td>\n",
       "      <td>0</td>\n",
       "      <td>Apartment</td>\n",
       "      <td>3</td>\n",
       "      <td>NaN</td>\n",
       "      <td>NaN</td>\n",
       "      <td>Ready</td>\n",
       "      <td>Semi Finished</td>\n",
       "    </tr>\n",
       "    <tr>\n",
       "      <th>8730</th>\n",
       "      <td>302</td>\n",
       "      <td>3</td>\n",
       "      <td>3</td>\n",
       "      <td>Azarita</td>\n",
       "      <td>6039000</td>\n",
       "      <td>0</td>\n",
       "      <td>0</td>\n",
       "      <td>1</td>\n",
       "      <td>1</td>\n",
       "      <td>0</td>\n",
       "      <td>0</td>\n",
       "      <td>1</td>\n",
       "      <td>1</td>\n",
       "      <td>0</td>\n",
       "      <td>0</td>\n",
       "      <td>0</td>\n",
       "      <td>0</td>\n",
       "      <td>1</td>\n",
       "      <td>0</td>\n",
       "      <td>Apartment</td>\n",
       "      <td>4</td>\n",
       "      <td>NaN</td>\n",
       "      <td>NaN</td>\n",
       "      <td>Ready</td>\n",
       "      <td>Semi Finished</td>\n",
       "    </tr>\n",
       "    <tr>\n",
       "      <th>8734</th>\n",
       "      <td>300</td>\n",
       "      <td>3</td>\n",
       "      <td>4</td>\n",
       "      <td>Kafr Abdo</td>\n",
       "      <td>4500000</td>\n",
       "      <td>0</td>\n",
       "      <td>0</td>\n",
       "      <td>0</td>\n",
       "      <td>0</td>\n",
       "      <td>0</td>\n",
       "      <td>0</td>\n",
       "      <td>0</td>\n",
       "      <td>0</td>\n",
       "      <td>0</td>\n",
       "      <td>0</td>\n",
       "      <td>0</td>\n",
       "      <td>0</td>\n",
       "      <td>0</td>\n",
       "      <td>0</td>\n",
       "      <td>Apartment</td>\n",
       "      <td>8</td>\n",
       "      <td>0.0</td>\n",
       "      <td>NaN</td>\n",
       "      <td>NaN</td>\n",
       "      <td>Finished</td>\n",
       "    </tr>\n",
       "    <tr>\n",
       "      <th>8739</th>\n",
       "      <td>260</td>\n",
       "      <td>3</td>\n",
       "      <td>3</td>\n",
       "      <td>Glim</td>\n",
       "      <td>8500000</td>\n",
       "      <td>1</td>\n",
       "      <td>1</td>\n",
       "      <td>0</td>\n",
       "      <td>0</td>\n",
       "      <td>0</td>\n",
       "      <td>0</td>\n",
       "      <td>0</td>\n",
       "      <td>0</td>\n",
       "      <td>1</td>\n",
       "      <td>0</td>\n",
       "      <td>0</td>\n",
       "      <td>0</td>\n",
       "      <td>0</td>\n",
       "      <td>0</td>\n",
       "      <td>Apartment</td>\n",
       "      <td>7</td>\n",
       "      <td>0.0</td>\n",
       "      <td>NaN</td>\n",
       "      <td>Ready</td>\n",
       "      <td>Finished</td>\n",
       "    </tr>\n",
       "  </tbody>\n",
       "</table>\n",
       "<p>450 rows × 25 columns</p>\n",
       "</div>"
      ],
      "text/plain": [
       "      Area(SQM) Bedroom Bathroom    Location     Price  Negotiable  Balcony  \\\n",
       "12          260       3        3       Smoha   1500000           1        1   \n",
       "46          310       3        3   Kafr Abdo   6500000           0        0   \n",
       "50          288       4        3       Smoha   4100000           0        1   \n",
       "98          292       4        3  Saba Pasha  13000000           0        0   \n",
       "114         306       4        2       Smoha   3100000           1        1   \n",
       "...         ...     ...      ...         ...       ...         ...      ...   \n",
       "8715        280       3        2       Agami    450000           0        0   \n",
       "8722        327       4        3     Azarita   8047470           0        0   \n",
       "8730        302       3        3     Azarita   6039000           0        0   \n",
       "8734        300       3        4   Kafr Abdo   4500000           0        0   \n",
       "8739        260       3        3        Glim   8500000           1        1   \n",
       "\n",
       "      Electricity  Water  Gas  Landline  Elevator  Security  Built_in_Kitchen  \\\n",
       "12              0      0    0         0         1         1                 0   \n",
       "46              1      1    0         0         0         0                 0   \n",
       "50              1      1    1         0         1         1                 0   \n",
       "98              0      0    0         0         0         0                 0   \n",
       "114             1      1    1         1         1         1                 0   \n",
       "...           ...    ...  ...       ...       ...       ...               ...   \n",
       "8715            1      1    1         0         1         1                 0   \n",
       "8722            1      1    1         1         1         1                 0   \n",
       "8730            1      1    0         0         1         1                 0   \n",
       "8734            0      0    0         0         0         0                 0   \n",
       "8739            0      0    0         0         0         0                 1   \n",
       "\n",
       "      Maids_Room  Private_Garden  Parking  Central(A/C)& heating  Pool  \\\n",
       "12             0               0        1                      0     0   \n",
       "46             0               0        0                      0     0   \n",
       "50             0               0        0                      0     0   \n",
       "98             0               0        0                      0     0   \n",
       "114            0               0        0                      0     0   \n",
       "...          ...             ...      ...                    ...   ...   \n",
       "8715           0               0        0                      0     0   \n",
       "8722           0               0        0                      1     0   \n",
       "8730           0               0        0                      1     0   \n",
       "8734           0               0        0                      0     0   \n",
       "8739           0               0        0                      0     0   \n",
       "\n",
       "           Type Level  Furnished Compound Delivery_Date  Delivery_Term  \n",
       "12    Apartment     6        0.0      NaN          2023       Finished  \n",
       "46    Apartment     7        NaN      NaN           NaN       Finished  \n",
       "50    Apartment     2        0.0      NaN           NaN            NaN  \n",
       "98    Apartment   10+        1.0      NaN         Ready       Finished  \n",
       "114      Duplex     8        1.0      NaN         Ready       Finished  \n",
       "...         ...   ...        ...      ...           ...            ...  \n",
       "8715     Duplex     8        NaN      NaN           NaN   Not Finished  \n",
       "8722  Apartment     3        NaN      NaN         Ready  Semi Finished  \n",
       "8730  Apartment     4        NaN      NaN         Ready  Semi Finished  \n",
       "8734  Apartment     8        0.0      NaN           NaN       Finished  \n",
       "8739  Apartment     7        0.0      NaN         Ready       Finished  \n",
       "\n",
       "[450 rows x 25 columns]"
      ]
     },
     "execution_count": 12,
     "metadata": {},
     "output_type": "execute_result"
    }
   ],
   "source": [
    "df[df['Area(SQM)'] >250] "
   ]
  },
  {
   "cell_type": "code",
   "execution_count": 13,
   "metadata": {},
   "outputs": [],
   "source": [
    "# removing outlieers :\n",
    "df = df[df['Area(SQM)'] <= 250] "
   ]
  },
  {
   "cell_type": "code",
   "execution_count": 14,
   "metadata": {
    "scrolled": true
   },
   "outputs": [
    {
     "data": {
      "image/png": "[encoded data removed]",
      "text/plain": [
       "<Figure size 432x288 with 1 Axes>"
      ]
     },
     "metadata": {
      "needs_background": "light"
     },
     "output_type": "display_data"
    }
   ],
   "source": [
    "sb.boxplot(data = df, x = 'Area(SQM)');"
   ]
  },
  {
   "cell_type": "markdown",
   "metadata": {},
   "source": [
    "### Bedrooms :"
   ]
  },
  {
   "cell_type": "code",
   "execution_count": 15,
   "metadata": {},
   "outputs": [
    {
     "data": {
      "text/plain": [
       "3      4404\n",
       "2      3322\n",
       "4       333\n",
       "1       158\n",
       "5        47\n",
       "6         8\n",
       "8         2\n",
       "10+       2\n",
       "7         1\n",
       "Name: Bedroom, dtype: int64"
      ]
     },
     "execution_count": 15,
     "metadata": {},
     "output_type": "execute_result"
    }
   ],
   "source": [
    "df['Bedroom'].value_counts()"
   ]
  },
  {
   "cell_type": "code",
   "execution_count": 16,
   "metadata": {},
   "outputs": [],
   "source": [
    "# remove records with Bedroom > 6 :\n",
    "df['Bedroom'] = df['Bedroom'].replace('10+' , '10').astype(int)\n",
    "df = df[df['Bedroom'] < 7]"
   ]
  },
  {
   "cell_type": "code",
   "execution_count": 17,
   "metadata": {},
   "outputs": [
    {
     "data": {
      "image/png": "[encoded data removed]",
      "text/plain": [
       "<Figure size 468x288 with 1 Axes>"
      ]
     },
     "metadata": {
      "needs_background": "light"
     },
     "output_type": "display_data"
    }
   ],
   "source": [
    "# Bedroom:\n",
    "plt.figure(figsize = [6.5,4]);\n",
    "color = sb.color_palette()[0]\n",
    "sb.countplot(data = df, x = 'Bedroom', color = color);"
   ]
  },
  {
   "cell_type": "markdown",
   "metadata": {},
   "source": [
    "### Bathrooms :"
   ]
  },
  {
   "cell_type": "code",
   "execution_count": 18,
   "metadata": {},
   "outputs": [
    {
     "data": {
      "text/plain": [
       "1      5061\n",
       "2      2575\n",
       "3       607\n",
       "4        25\n",
       "5         2\n",
       "10+       1\n",
       "6         1\n",
       "Name: Bathroom, dtype: int64"
      ]
     },
     "execution_count": 18,
     "metadata": {},
     "output_type": "execute_result"
    }
   ],
   "source": [
    "df['Bathroom'].value_counts()"
   ]
  },
  {
   "cell_type": "code",
   "execution_count": 19,
   "metadata": {},
   "outputs": [],
   "source": [
    "# remove records with Bathroom > 5 :\n",
    "df['Bathroom'] = df['Bathroom'].replace('10+' , '10').astype(int)\n",
    "df = df[df['Bathroom'] < 5]"
   ]
  },
  {
   "cell_type": "code",
   "execution_count": 20,
   "metadata": {},
   "outputs": [
    {
     "data": {
      "text/plain": [
       "1    5061\n",
       "2    2575\n",
       "3     607\n",
       "4      25\n",
       "Name: Bathroom, dtype: int64"
      ]
     },
     "execution_count": 20,
     "metadata": {},
     "output_type": "execute_result"
    }
   ],
   "source": [
    "df['Bathroom'].value_counts()"
   ]
  },
  {
   "cell_type": "code",
   "execution_count": 21,
   "metadata": {
    "scrolled": false
   },
   "outputs": [
    {
     "data": {
      "image/png": "[encoded data removed]",
      "text/plain": [
       "<Figure size 468x288 with 1 Axes>"
      ]
     },
     "metadata": {
      "needs_background": "light"
     },
     "output_type": "display_data"
    }
   ],
   "source": [
    "plt.figure(figsize = [6.5,4]);\n",
    "color = sb.color_palette()[0]\n",
    "sb.countplot(data = df, x = 'Bathroom', color = color);"
   ]
  },
  {
   "cell_type": "markdown",
   "metadata": {},
   "source": [
    "### location :"
   ]
  },
  {
   "cell_type": "code",
   "execution_count": 22,
   "metadata": {
    "scrolled": false
   },
   "outputs": [
    {
     "data": {
      "text/plain": [
       "Nakheel             1147\n",
       "Agami               1035\n",
       "Smoha               1009\n",
       "Sidi Beshr           690\n",
       "Miami                507\n",
       "Moharam Bik          356\n",
       "Mandara              340\n",
       "Seyouf               303\n",
       "Laurent              216\n",
       "Asafra               209\n",
       "Maamoura             177\n",
       "Al Ibrahimiyyah      138\n",
       "Roushdy              131\n",
       "Glim                 122\n",
       "Kafr Abdo            122\n",
       "Saba Pasha           111\n",
       "Victoria             102\n",
       "Sporting              96\n",
       "Montazah              95\n",
       "Sidi Gaber            92\n",
       "Abu Qir               85\n",
       "Fleming               79\n",
       "Al Hadrah             74\n",
       "Bolkly                69\n",
       "San Stefano           67\n",
       "Zezenia               65\n",
       "Camp Caesar           64\n",
       "Stanley               62\n",
       "Bacchus               62\n",
       "Gianaclis             61\n",
       "Awayed                57\n",
       "Borg al-Arab          56\n",
       "Cleopatra             49\n",
       "Azarita               44\n",
       "Bahray - Anfoshy      41\n",
       "Abu Talat             39\n",
       "Karmous               29\n",
       "Schutz                27\n",
       "Amreya                27\n",
       "Wardian               25\n",
       "Dekheila              22\n",
       "Manshiyya             20\n",
       "Labban                18\n",
       "Raml Station          18\n",
       "Gomrok                17\n",
       "Kabbary               17\n",
       "Attarin               17\n",
       "Ras El Tin            16\n",
       "Dhahria               14\n",
       "Shatby                12\n",
       "El Max                 8\n",
       "Salehia                5\n",
       "Koum al-Dikka          4\n",
       "Name: Location, dtype: int64"
      ]
     },
     "execution_count": 22,
     "metadata": {},
     "output_type": "execute_result"
    }
   ],
   "source": [
    "df['Location'].value_counts()"
   ]
  },
  {
   "cell_type": "code",
   "execution_count": 23,
   "metadata": {},
   "outputs": [
    {
     "data": {
      "text/plain": [
       "Index(['Nakheel', 'Agami', 'Smoha', 'Sidi Beshr', 'Miami', 'Moharam Bik',\n",
       "       'Mandara', 'Seyouf', 'Laurent', 'Asafra', 'Maamoura', 'Al Ibrahimiyyah',\n",
       "       'Roushdy', 'Glim', 'Kafr Abdo', 'Saba Pasha', 'Victoria', 'Sporting',\n",
       "       'Montazah', 'Sidi Gaber', 'Abu Qir', 'Fleming', 'Al Hadrah', 'Bolkly',\n",
       "       'San Stefano', 'Zezenia', 'Camp Caesar', 'Stanley', 'Bacchus',\n",
       "       'Gianaclis', 'Awayed', 'Borg al-Arab', 'Cleopatra', 'Azarita',\n",
       "       'Bahray - Anfoshy', 'Abu Talat', 'Karmous', 'Schutz', 'Amreya',\n",
       "       'Wardian', 'Dekheila', 'Manshiyya', 'Labban', 'Raml Station', 'Gomrok',\n",
       "       'Kabbary', 'Attarin', 'Ras El Tin', 'Dhahria', 'Shatby', 'El Max',\n",
       "       'Salehia', 'Koum al-Dikka'],\n",
       "      dtype='object')"
      ]
     },
     "execution_count": 23,
     "metadata": {},
     "output_type": "execute_result"
    }
   ],
   "source": [
    "# arrangement :\n",
    "loc_order = df['Location'].value_counts().index\n",
    "loc_order"
   ]
  },
  {
   "cell_type": "code",
   "execution_count": 24,
   "metadata": {},
   "outputs": [
    {
     "data": {
      "image/png": "[encoded data removed]",
      "text/plain": [
       "<Figure size 1152x504 with 1 Axes>"
      ]
     },
     "metadata": {
      "needs_background": "light"
     },
     "output_type": "display_data"
    }
   ],
   "source": [
    "plt.figure(figsize = [16,7]);\n",
    "color = sb.color_palette()[0]\n",
    "sb.countplot(data = df, x = 'Location', order = loc_order, color = color);\n",
    "plt.xticks(rotation = 90);"
   ]
  },
  {
   "cell_type": "markdown",
   "metadata": {},
   "source": [
    "* The largest number of apartments for sale are located in Nakheel, Smoha and Agami :\n",
    "* need to map those locations"
   ]
  },
  {
   "cell_type": "markdown",
   "metadata": {},
   "source": [
    "### Price :"
   ]
  },
  {
   "cell_type": "code",
   "execution_count": 25,
   "metadata": {
    "scrolled": true
   },
   "outputs": [
    {
     "data": {
      "text/plain": [
       "count    8.268000e+03\n",
       "mean     1.302240e+06\n",
       "std      1.711030e+06\n",
       "min      2.000000e+05\n",
       "25%      3.650000e+05\n",
       "50%      7.500000e+05\n",
       "75%      1.800000e+06\n",
       "max      8.000000e+07\n",
       "Name: Price, dtype: float64"
      ]
     },
     "execution_count": 25,
     "metadata": {},
     "output_type": "execute_result"
    }
   ],
   "source": [
    "df['Price'].describe()"
   ]
  },
  {
   "cell_type": "code",
   "execution_count": 26,
   "metadata": {
    "scrolled": true
   },
   "outputs": [
    {
     "data": {
      "image/png": "[encoded data removed]",
      "text/plain": [
       "<Figure size 1152x324 with 2 Axes>"
      ]
     },
     "metadata": {
      "needs_background": "light"
     },
     "output_type": "display_data"
    }
   ],
   "source": [
    "plt.figure(figsize = [16,4.5]);\n",
    "plt.subplot(1,2,1);\n",
    "sb.violinplot(data = df, x = 'Price', inner = 'quartile');\n",
    "plt.xlabel('Prices');\n",
    "plt.ylabel('Count');\n",
    "plt.subplot(1,2,2);\n",
    "\n",
    "sb.boxplot(data = df, x = 'Price');\n",
    "plt.xlabel('Prices');\n",
    "plt.ylabel('Count');"
   ]
  },
  {
   "cell_type": "code",
   "execution_count": 27,
   "metadata": {},
   "outputs": [
    {
     "data": {
      "text/plain": [
       "3952500.0"
      ]
     },
     "execution_count": 27,
     "metadata": {},
     "output_type": "execute_result"
    }
   ],
   "source": [
    "# upper limit:\n",
    "IQR = df['Price'].quantile(0.75) - df['Price'].quantile(0.25)\n",
    "upper_limit = (IQR * 1.5) + df['Price'].quantile(0.75)\n",
    "upper_limit"
   ]
  },
  {
   "cell_type": "code",
   "execution_count": 28,
   "metadata": {},
   "outputs": [],
   "source": [
    "# removing outliers from dataset:\n",
    "df = df[df['Price'] <= upper_limit]"
   ]
  },
  {
   "cell_type": "code",
   "execution_count": 29,
   "metadata": {
    "scrolled": true
   },
   "outputs": [
    {
     "data": {
      "text/plain": [
       "count    3.896416\n",
       "mean     6.037771\n",
       "std      5.968022\n",
       "min      5.301030\n",
       "25%      5.544068\n",
       "50%      5.845098\n",
       "75%      6.204120\n",
       "max      6.596597\n",
       "Name: Price, dtype: float64"
      ]
     },
     "execution_count": 29,
     "metadata": {},
     "output_type": "execute_result"
    }
   ],
   "source": [
    "# get limits of log scale of Price :\n",
    "np.log10(df['Price'].describe())   # From 5.3 To 6.6"
   ]
  },
  {
   "cell_type": "code",
   "execution_count": 30,
   "metadata": {},
   "outputs": [
    {
     "data": {
      "image/png": "[encoded data removed]",
      "text/plain": [
       "<Figure size 504x324 with 1 Axes>"
      ]
     },
     "metadata": {
      "needs_background": "light"
     },
     "output_type": "display_data"
    }
   ],
   "source": [
    "# Distribution of Prices :\n",
    "plt.figure(figsize = [7,4.5]);\n",
    "\n",
    "bin_edges = np.arange(75000, df['Price'].max()+250000, 250000)\n",
    "plt.hist(data = df, x = 'Price', bins = bin_edges, rwidth = 0.7 );\n",
    "plt.xticks(np.arange(df['Price'].min(), df['Price'].max()+250000, 250000), rotation = 90)\n",
    "plt.xlabel('Prices');\n",
    "plt.ylabel('Count');\n",
    "plt.title(\"Distribution of Prices\", size = 14);"
   ]
  },
  {
   "cell_type": "markdown",
   "metadata": {},
   "source": [
    "* Number of apartments with specific price range decreases as price increases"
   ]
  },
  {
   "cell_type": "markdown",
   "metadata": {},
   "source": [
    " 'Negotiable',\n",
    "       'Balcony', 'Electricity', 'Water', 'Gas', 'Landline', 'Elevator',\n",
    "       'Security', 'Built_in_Kitchen', 'Maids_Room', 'Private_Garden',\n",
    "       'Parking', 'Central(A/C)& heating', 'Pool', "
   ]
  },
  {
   "cell_type": "code",
   "execution_count": 31,
   "metadata": {},
   "outputs": [],
   "source": [
    "variables = ['Negotiable','Balcony', 'Electricity', 'Water', 'Gas', 'Landline', 'Elevator','Security', \n",
    "             'Built_in_Kitchen', 'Maids_Room', 'Private_Garden','Parking', 'Central(A/C)& heating', 'Pool']"
   ]
  },
  {
   "cell_type": "code",
   "execution_count": 32,
   "metadata": {},
   "outputs": [
    {
     "data": {
      "image/png": "[encoded data removed]",
      "text/plain": [
       "<Figure size 1152x1800 with 14 Axes>"
      ]
     },
     "metadata": {
      "needs_background": "light"
     },
     "output_type": "display_data"
    }
   ],
   "source": [
    "plt.figure(figsize = [16,25]);\n",
    "color = sb.color_palette()[0]\n",
    "i = 1\n",
    "for n in variables:\n",
    "    plt.subplot(5,3,i)\n",
    "    sb.countplot(data = df, x =df[n], color = color)\n",
    "    i+=1"
   ]
  },
  {
   "cell_type": "code",
   "execution_count": 33,
   "metadata": {
    "scrolled": false
   },
   "outputs": [
    {
     "data": {
      "text/plain": [
       "Area(SQM)                   0\n",
       "Bedroom                     0\n",
       "Bathroom                    0\n",
       "Location                    0\n",
       "Price                       0\n",
       "Negotiable                  0\n",
       "Balcony                     0\n",
       "Electricity                 0\n",
       "Water                       0\n",
       "Gas                         0\n",
       "Landline                    0\n",
       "Elevator                    0\n",
       "Security                    0\n",
       "Built_in_Kitchen            0\n",
       "Maids_Room                  0\n",
       "Private_Garden              0\n",
       "Parking                     0\n",
       "Central(A/C)& heating       0\n",
       "Pool                        0\n",
       "Type                        1\n",
       "Level                     392\n",
       "Furnished                1329\n",
       "Compound                 7360\n",
       "Delivery_Date            2666\n",
       "Delivery_Term            1486\n",
       "dtype: int64"
      ]
     },
     "execution_count": 33,
     "metadata": {},
     "output_type": "execute_result"
    }
   ],
   "source": [
    "df.isna().sum()"
   ]
  },
  {
   "cell_type": "markdown",
   "metadata": {},
   "source": [
    "* ['Type', 'Level','Furnished', 'Compound', 'Delivery_Date', 'Delivery_Term'] have nulls\n",
    "* we have to deal with null values first :"
   ]
  },
  {
   "cell_type": "markdown",
   "metadata": {},
   "source": [
    "### Type:"
   ]
  },
  {
   "cell_type": "code",
   "execution_count": 34,
   "metadata": {},
   "outputs": [
    {
     "data": {
      "text/html": [
       "<div>\n",
       "<style scoped>\n",
       "    .dataframe tbody tr th:only-of-type {\n",
       "        vertical-align: middle;\n",
       "    }\n",
       "\n",
       "    .dataframe tbody tr th {\n",
       "        vertical-align: top;\n",
       "    }\n",
       "\n",
       "    .dataframe thead th {\n",
       "        text-align: right;\n",
       "    }\n",
       "</style>\n",
       "<table border=\"1\" class=\"dataframe\">\n",
       "  <thead>\n",
       "    <tr style=\"text-align: right;\">\n",
       "      <th></th>\n",
       "      <th>Area(SQM)</th>\n",
       "      <th>Bedroom</th>\n",
       "      <th>Bathroom</th>\n",
       "      <th>Location</th>\n",
       "      <th>Price</th>\n",
       "      <th>Negotiable</th>\n",
       "      <th>Balcony</th>\n",
       "      <th>Electricity</th>\n",
       "      <th>Water</th>\n",
       "      <th>Gas</th>\n",
       "      <th>Landline</th>\n",
       "      <th>Elevator</th>\n",
       "      <th>Security</th>\n",
       "      <th>Built_in_Kitchen</th>\n",
       "      <th>Maids_Room</th>\n",
       "      <th>Private_Garden</th>\n",
       "      <th>Parking</th>\n",
       "      <th>Central(A/C)&amp; heating</th>\n",
       "      <th>Pool</th>\n",
       "      <th>Type</th>\n",
       "      <th>Level</th>\n",
       "      <th>Furnished</th>\n",
       "      <th>Compound</th>\n",
       "      <th>Delivery_Date</th>\n",
       "      <th>Delivery_Term</th>\n",
       "    </tr>\n",
       "  </thead>\n",
       "  <tbody>\n",
       "    <tr>\n",
       "      <th>1481</th>\n",
       "      <td>130</td>\n",
       "      <td>2</td>\n",
       "      <td>1</td>\n",
       "      <td>Asafra</td>\n",
       "      <td>950000</td>\n",
       "      <td>0</td>\n",
       "      <td>0</td>\n",
       "      <td>0</td>\n",
       "      <td>0</td>\n",
       "      <td>0</td>\n",
       "      <td>0</td>\n",
       "      <td>0</td>\n",
       "      <td>0</td>\n",
       "      <td>0</td>\n",
       "      <td>0</td>\n",
       "      <td>0</td>\n",
       "      <td>0</td>\n",
       "      <td>0</td>\n",
       "      <td>0</td>\n",
       "      <td>NaN</td>\n",
       "      <td>NaN</td>\n",
       "      <td>NaN</td>\n",
       "      <td>NaN</td>\n",
       "      <td>NaN</td>\n",
       "      <td>NaN</td>\n",
       "    </tr>\n",
       "  </tbody>\n",
       "</table>\n",
       "</div>"
      ],
      "text/plain": [
       "      Area(SQM)  Bedroom  Bathroom Location   Price  Negotiable  Balcony  \\\n",
       "1481        130        2         1   Asafra  950000           0        0   \n",
       "\n",
       "      Electricity  Water  Gas  Landline  Elevator  Security  Built_in_Kitchen  \\\n",
       "1481            0      0    0         0         0         0                 0   \n",
       "\n",
       "      Maids_Room  Private_Garden  Parking  Central(A/C)& heating  Pool Type  \\\n",
       "1481           0               0        0                      0     0  NaN   \n",
       "\n",
       "     Level  Furnished Compound Delivery_Date Delivery_Term  \n",
       "1481   NaN        NaN      NaN           NaN           NaN  "
      ]
     },
     "execution_count": 34,
     "metadata": {},
     "output_type": "execute_result"
    }
   ],
   "source": [
    "df[df['Type'].isna()]"
   ]
  },
  {
   "cell_type": "code",
   "execution_count": 35,
   "metadata": {},
   "outputs": [],
   "source": [
    "df = df.drop(1481)"
   ]
  },
  {
   "cell_type": "code",
   "execution_count": 36,
   "metadata": {},
   "outputs": [
    {
     "data": {
      "text/plain": [
       "0"
      ]
     },
     "execution_count": 36,
     "metadata": {},
     "output_type": "execute_result"
    }
   ],
   "source": [
    "df['Type'].isna().sum()"
   ]
  },
  {
   "cell_type": "markdown",
   "metadata": {},
   "source": [
    "### Level :"
   ]
  },
  {
   "cell_type": "code",
   "execution_count": 37,
   "metadata": {},
   "outputs": [
    {
     "data": {
      "image/png": "[encoded data removed]",
      "text/plain": [
       "<Figure size 432x288 with 1 Axes>"
      ]
     },
     "metadata": {
      "needs_background": "light"
     },
     "output_type": "display_data"
    }
   ],
   "source": [
    "sb.countplot(data = df, x = 'Level',color = color, order = ['1','2','3','4','5','6','7','8','9','10','10+']);"
   ]
  },
  {
   "cell_type": "markdown",
   "metadata": {},
   "source": [
    "* For missing value in 'Level' Column, we want to randomly fill nulls with values that will not affect the distribution of the existence values\n",
    "* We will use Forward fill method to fill nulls as folloing :"
   ]
  },
  {
   "cell_type": "code",
   "execution_count": 38,
   "metadata": {},
   "outputs": [],
   "source": [
    "df['Level'] = df['Level'].fillna(method='ffill')"
   ]
  },
  {
   "cell_type": "code",
   "execution_count": 39,
   "metadata": {},
   "outputs": [
    {
     "data": {
      "image/png": "[encoded data removed]",
      "text/plain": [
       "<Figure size 432x288 with 1 Axes>"
      ]
     },
     "metadata": {
      "needs_background": "light"
     },
     "output_type": "display_data"
    }
   ],
   "source": [
    "sb.countplot(data = df, x = 'Level',color = color, order = ['1','2','3','4','5','6','7','8','9','10','10+']);"
   ]
  },
  {
   "cell_type": "markdown",
   "metadata": {},
   "source": [
    "* as we see, the distribution of values not affected."
   ]
  },
  {
   "cell_type": "markdown",
   "metadata": {},
   "source": [
    "### Furnished :"
   ]
  },
  {
   "cell_type": "code",
   "execution_count": 40,
   "metadata": {},
   "outputs": [
    {
     "data": {
      "text/plain": [
       "array([ 0., nan,  1.])"
      ]
     },
     "execution_count": 40,
     "metadata": {},
     "output_type": "execute_result"
    }
   ],
   "source": [
    "df['Furnished'].unique()"
   ]
  },
  {
   "cell_type": "code",
   "execution_count": 41,
   "metadata": {},
   "outputs": [
    {
     "data": {
      "text/plain": [
       "0.0    5766\n",
       "1.0     783\n",
       "Name: Furnished, dtype: int64"
      ]
     },
     "execution_count": 41,
     "metadata": {},
     "output_type": "execute_result"
    }
   ],
   "source": [
    "df['Furnished'].value_counts()"
   ]
  },
  {
   "cell_type": "code",
   "execution_count": 42,
   "metadata": {},
   "outputs": [
    {
     "data": {
      "image/png": "[encoded data removed]",
      "text/plain": [
       "<Figure size 468x288 with 1 Axes>"
      ]
     },
     "metadata": {
      "needs_background": "light"
     },
     "output_type": "display_data"
    }
   ],
   "source": [
    "plt.figure(figsize = [6.5,4]);\n",
    "sb.countplot(data = df, x = df['Furnished'], color = color);"
   ]
  },
  {
   "cell_type": "markdown",
   "metadata": {},
   "source": [
    "* It is customary that apartment are sold without furniture, and in the event that the seller wants to sell it with furniture, he will mention it in the advertisement to draw attention to the buyer that this will be at a higher value for sure, and therefore we will assume that the missing values are for apartments that will be sold without furniture.  "
   ]
  },
  {
   "cell_type": "code",
   "execution_count": 43,
   "metadata": {},
   "outputs": [],
   "source": [
    "df['Furnished'] = df['Furnished'].fillna(0)"
   ]
  },
  {
   "cell_type": "code",
   "execution_count": 44,
   "metadata": {},
   "outputs": [
    {
     "data": {
      "text/plain": [
       "0"
      ]
     },
     "execution_count": 44,
     "metadata": {},
     "output_type": "execute_result"
    }
   ],
   "source": [
    "df['Furnished'].isna().sum()"
   ]
  },
  {
   "cell_type": "markdown",
   "metadata": {},
   "source": [
    "### Compound :"
   ]
  },
  {
   "cell_type": "code",
   "execution_count": 45,
   "metadata": {},
   "outputs": [
    {
     "data": {
      "text/plain": [
       "array([nan, 'Murooj', 'Nakheel', 'Amorada', 'ABHA', 'Skyline', 'Asala',\n",
       "       'VGK', 'Madinaty', 'Dyar', 'Andalus', 'Yaru', 'Ashrafeya', 'OIA',\n",
       "       'Akoya', 'Kenz', 'Atika', 'Gardenia', 'Pukka', 'Eshraqa', 'Aswar',\n",
       "       'Etlalah', 'Azzar', 'Bellagio', 'Alma', 'Sama'], dtype=object)"
      ]
     },
     "execution_count": 45,
     "metadata": {},
     "output_type": "execute_result"
    }
   ],
   "source": [
    "df['Compound'].unique()"
   ]
  },
  {
   "cell_type": "markdown",
   "metadata": {},
   "source": [
    "* As we see from in column value, it mentioned the Compound name if it exists, so we will assume that the null value means that the apartment is not located inside any  Compound."
   ]
  },
  {
   "cell_type": "code",
   "execution_count": 46,
   "metadata": {},
   "outputs": [],
   "source": [
    "df['Compound'] = df['Compound'].fillna('Not_In_Compound')"
   ]
  },
  {
   "cell_type": "code",
   "execution_count": 47,
   "metadata": {},
   "outputs": [
    {
     "data": {
      "text/plain": [
       "0"
      ]
     },
     "execution_count": 47,
     "metadata": {},
     "output_type": "execute_result"
    }
   ],
   "source": [
    "df['Compound'].isna().sum()"
   ]
  },
  {
   "cell_type": "markdown",
   "metadata": {},
   "source": [
    "### Delivery_Date :"
   ]
  },
  {
   "cell_type": "markdown",
   "metadata": {},
   "source": [
    "* for null values, The seller \"to a large extent\" will have to mention the date of delivery of the apartment if there is something that will postpone the delivery process, but in the event that the apartment is ready for delivery, this is the norm.\n",
    "* So we will assume that null values indicate that the apartment is ready for deliver."
   ]
  },
  {
   "cell_type": "code",
   "execution_count": 48,
   "metadata": {},
   "outputs": [
    {
     "data": {
      "text/plain": [
       "array(['Ready', nan, 'soon', '2023', '2025', '2024', 'within 6 months',\n",
       "       '2022', '2026', '2029', '2027'], dtype=object)"
      ]
     },
     "execution_count": 48,
     "metadata": {},
     "output_type": "execute_result"
    }
   ],
   "source": [
    "df['Delivery_Date'].unique()"
   ]
  },
  {
   "cell_type": "code",
   "execution_count": 49,
   "metadata": {},
   "outputs": [
    {
     "data": {
      "image/png": "[encoded data removed]",
      "text/plain": [
       "<Figure size 864x432 with 1 Axes>"
      ]
     },
     "metadata": {
      "needs_background": "light"
     },
     "output_type": "display_data"
    }
   ],
   "source": [
    "plt.figure(figsize = [12,6]);\n",
    "sb.countplot(data = df, x = 'Delivery_Date',color = color, order = ['Ready','soon','2022','within 6 months','2023',\n",
    "                                                                    '2024','2025','2026','2027','2029']);"
   ]
  },
  {
   "cell_type": "code",
   "execution_count": 50,
   "metadata": {},
   "outputs": [],
   "source": [
    "df['Delivery_Date'] = df['Delivery_Date'].fillna('Ready')"
   ]
  },
  {
   "cell_type": "code",
   "execution_count": 51,
   "metadata": {},
   "outputs": [
    {
     "data": {
      "text/plain": [
       "0"
      ]
     },
     "execution_count": 51,
     "metadata": {},
     "output_type": "execute_result"
    }
   ],
   "source": [
    "df['Delivery_Date'].isna().sum()"
   ]
  },
  {
   "cell_type": "markdown",
   "metadata": {},
   "source": [
    "### Delivery_Term :"
   ]
  },
  {
   "cell_type": "code",
   "execution_count": 52,
   "metadata": {},
   "outputs": [
    {
     "data": {
      "text/plain": [
       "array(['Finished', nan, 'Not Finished', 'Semi Finished', 'Core & Shell'],\n",
       "      dtype=object)"
      ]
     },
     "execution_count": 52,
     "metadata": {},
     "output_type": "execute_result"
    }
   ],
   "source": [
    "df['Delivery_Term'].unique()"
   ]
  },
  {
   "cell_type": "code",
   "execution_count": 53,
   "metadata": {
    "scrolled": true
   },
   "outputs": [
    {
     "data": {
      "text/plain": [
       "Finished         5896\n",
       "Semi Finished     280\n",
       "Not Finished      174\n",
       "Core & Shell       42\n",
       "Name: Delivery_Term, dtype: int64"
      ]
     },
     "execution_count": 53,
     "metadata": {},
     "output_type": "execute_result"
    }
   ],
   "source": [
    "df['Delivery_Term'].value_counts()"
   ]
  },
  {
   "cell_type": "markdown",
   "metadata": {},
   "source": [
    "* If the apartment is not finished 'to a large extent' the seller will excuse this, so we will assume that the missing values belong to the finished apartments."
   ]
  },
  {
   "cell_type": "code",
   "execution_count": 54,
   "metadata": {},
   "outputs": [],
   "source": [
    "df['Delivery_Term'] = df['Delivery_Term'].fillna('Finished')"
   ]
  },
  {
   "cell_type": "code",
   "execution_count": 55,
   "metadata": {},
   "outputs": [
    {
     "data": {
      "text/plain": [
       "Area(SQM)                0\n",
       "Bedroom                  0\n",
       "Bathroom                 0\n",
       "Location                 0\n",
       "Price                    0\n",
       "Negotiable               0\n",
       "Balcony                  0\n",
       "Electricity              0\n",
       "Water                    0\n",
       "Gas                      0\n",
       "Landline                 0\n",
       "Elevator                 0\n",
       "Security                 0\n",
       "Built_in_Kitchen         0\n",
       "Maids_Room               0\n",
       "Private_Garden           0\n",
       "Parking                  0\n",
       "Central(A/C)& heating    0\n",
       "Pool                     0\n",
       "Type                     0\n",
       "Level                    0\n",
       "Furnished                0\n",
       "Compound                 0\n",
       "Delivery_Date            0\n",
       "Delivery_Term            0\n",
       "dtype: int64"
      ]
     },
     "execution_count": 55,
     "metadata": {},
     "output_type": "execute_result"
    }
   ],
   "source": [
    "df.isnull().sum()"
   ]
  },
  {
   "cell_type": "code",
   "execution_count": 56,
   "metadata": {},
   "outputs": [],
   "source": [
    "# Creat a variable of price per metter square :\n",
    "df['meter_price'] = df['Price'] / df['Area(SQM)']"
   ]
  },
  {
   "cell_type": "code",
   "execution_count": 57,
   "metadata": {
    "scrolled": true
   },
   "outputs": [
    {
     "data": {
      "text/html": [
       "<div>\n",
       "<style scoped>\n",
       "    .dataframe tbody tr th:only-of-type {\n",
       "        vertical-align: middle;\n",
       "    }\n",
       "\n",
       "    .dataframe tbody tr th {\n",
       "        vertical-align: top;\n",
       "    }\n",
       "\n",
       "    .dataframe thead th {\n",
       "        text-align: right;\n",
       "    }\n",
       "</style>\n",
       "<table border=\"1\" class=\"dataframe\">\n",
       "  <thead>\n",
       "    <tr style=\"text-align: right;\">\n",
       "      <th></th>\n",
       "      <th>Area(SQM)</th>\n",
       "      <th>Bedroom</th>\n",
       "      <th>Bathroom</th>\n",
       "      <th>Location</th>\n",
       "      <th>Price</th>\n",
       "      <th>Negotiable</th>\n",
       "      <th>Balcony</th>\n",
       "      <th>Electricity</th>\n",
       "      <th>Water</th>\n",
       "      <th>Gas</th>\n",
       "      <th>Landline</th>\n",
       "      <th>Elevator</th>\n",
       "      <th>Security</th>\n",
       "      <th>Built_in_Kitchen</th>\n",
       "      <th>Maids_Room</th>\n",
       "      <th>Private_Garden</th>\n",
       "      <th>Parking</th>\n",
       "      <th>Central(A/C)&amp; heating</th>\n",
       "      <th>Pool</th>\n",
       "      <th>Type</th>\n",
       "      <th>Level</th>\n",
       "      <th>Furnished</th>\n",
       "      <th>Compound</th>\n",
       "      <th>Delivery_Date</th>\n",
       "      <th>Delivery_Term</th>\n",
       "      <th>meter_price</th>\n",
       "    </tr>\n",
       "  </thead>\n",
       "  <tbody>\n",
       "    <tr>\n",
       "      <th>0</th>\n",
       "      <td>125</td>\n",
       "      <td>3</td>\n",
       "      <td>2</td>\n",
       "      <td>Shatby</td>\n",
       "      <td>2200000</td>\n",
       "      <td>1</td>\n",
       "      <td>1</td>\n",
       "      <td>1</td>\n",
       "      <td>1</td>\n",
       "      <td>1</td>\n",
       "      <td>0</td>\n",
       "      <td>1</td>\n",
       "      <td>0</td>\n",
       "      <td>0</td>\n",
       "      <td>0</td>\n",
       "      <td>0</td>\n",
       "      <td>0</td>\n",
       "      <td>0</td>\n",
       "      <td>0</td>\n",
       "      <td>Apartment</td>\n",
       "      <td>10</td>\n",
       "      <td>0.0</td>\n",
       "      <td>Not_In_Compound</td>\n",
       "      <td>Ready</td>\n",
       "      <td>Finished</td>\n",
       "      <td>17600.000000</td>\n",
       "    </tr>\n",
       "    <tr>\n",
       "      <th>1</th>\n",
       "      <td>120</td>\n",
       "      <td>4</td>\n",
       "      <td>1</td>\n",
       "      <td>Sidi Beshr</td>\n",
       "      <td>500000</td>\n",
       "      <td>0</td>\n",
       "      <td>0</td>\n",
       "      <td>1</td>\n",
       "      <td>1</td>\n",
       "      <td>1</td>\n",
       "      <td>1</td>\n",
       "      <td>0</td>\n",
       "      <td>0</td>\n",
       "      <td>0</td>\n",
       "      <td>0</td>\n",
       "      <td>0</td>\n",
       "      <td>0</td>\n",
       "      <td>0</td>\n",
       "      <td>0</td>\n",
       "      <td>Apartment</td>\n",
       "      <td>3</td>\n",
       "      <td>0.0</td>\n",
       "      <td>Not_In_Compound</td>\n",
       "      <td>Ready</td>\n",
       "      <td>Finished</td>\n",
       "      <td>4166.666667</td>\n",
       "    </tr>\n",
       "    <tr>\n",
       "      <th>2</th>\n",
       "      <td>165</td>\n",
       "      <td>3</td>\n",
       "      <td>2</td>\n",
       "      <td>Sidi Beshr</td>\n",
       "      <td>1500000</td>\n",
       "      <td>1</td>\n",
       "      <td>1</td>\n",
       "      <td>1</td>\n",
       "      <td>1</td>\n",
       "      <td>1</td>\n",
       "      <td>0</td>\n",
       "      <td>1</td>\n",
       "      <td>0</td>\n",
       "      <td>0</td>\n",
       "      <td>0</td>\n",
       "      <td>0</td>\n",
       "      <td>0</td>\n",
       "      <td>0</td>\n",
       "      <td>0</td>\n",
       "      <td>Apartment</td>\n",
       "      <td>3</td>\n",
       "      <td>0.0</td>\n",
       "      <td>Not_In_Compound</td>\n",
       "      <td>Ready</td>\n",
       "      <td>Finished</td>\n",
       "      <td>9090.909091</td>\n",
       "    </tr>\n",
       "    <tr>\n",
       "      <th>3</th>\n",
       "      <td>155</td>\n",
       "      <td>3</td>\n",
       "      <td>2</td>\n",
       "      <td>Cleopatra</td>\n",
       "      <td>1650000</td>\n",
       "      <td>0</td>\n",
       "      <td>0</td>\n",
       "      <td>0</td>\n",
       "      <td>0</td>\n",
       "      <td>0</td>\n",
       "      <td>0</td>\n",
       "      <td>0</td>\n",
       "      <td>0</td>\n",
       "      <td>0</td>\n",
       "      <td>0</td>\n",
       "      <td>0</td>\n",
       "      <td>0</td>\n",
       "      <td>0</td>\n",
       "      <td>0</td>\n",
       "      <td>Apartment</td>\n",
       "      <td>3</td>\n",
       "      <td>0.0</td>\n",
       "      <td>Not_In_Compound</td>\n",
       "      <td>Ready</td>\n",
       "      <td>Finished</td>\n",
       "      <td>10645.161290</td>\n",
       "    </tr>\n",
       "    <tr>\n",
       "      <th>4</th>\n",
       "      <td>210</td>\n",
       "      <td>3</td>\n",
       "      <td>2</td>\n",
       "      <td>Smoha</td>\n",
       "      <td>2950000</td>\n",
       "      <td>0</td>\n",
       "      <td>0</td>\n",
       "      <td>0</td>\n",
       "      <td>0</td>\n",
       "      <td>0</td>\n",
       "      <td>0</td>\n",
       "      <td>0</td>\n",
       "      <td>0</td>\n",
       "      <td>0</td>\n",
       "      <td>0</td>\n",
       "      <td>0</td>\n",
       "      <td>0</td>\n",
       "      <td>0</td>\n",
       "      <td>0</td>\n",
       "      <td>Apartment</td>\n",
       "      <td>6</td>\n",
       "      <td>0.0</td>\n",
       "      <td>Not_In_Compound</td>\n",
       "      <td>Ready</td>\n",
       "      <td>Finished</td>\n",
       "      <td>14047.619048</td>\n",
       "    </tr>\n",
       "  </tbody>\n",
       "</table>\n",
       "</div>"
      ],
      "text/plain": [
       "   Area(SQM)  Bedroom  Bathroom    Location    Price  Negotiable  Balcony  \\\n",
       "0        125        3         2      Shatby  2200000           1        1   \n",
       "1        120        4         1  Sidi Beshr   500000           0        0   \n",
       "2        165        3         2  Sidi Beshr  1500000           1        1   \n",
       "3        155        3         2   Cleopatra  1650000           0        0   \n",
       "4        210        3         2       Smoha  2950000           0        0   \n",
       "\n",
       "   Electricity  Water  Gas  Landline  Elevator  Security  Built_in_Kitchen  \\\n",
       "0            1      1    1         0         1         0                 0   \n",
       "1            1      1    1         1         0         0                 0   \n",
       "2            1      1    1         0         1         0                 0   \n",
       "3            0      0    0         0         0         0                 0   \n",
       "4            0      0    0         0         0         0                 0   \n",
       "\n",
       "   Maids_Room  Private_Garden  Parking  Central(A/C)& heating  Pool  \\\n",
       "0           0               0        0                      0     0   \n",
       "1           0               0        0                      0     0   \n",
       "2           0               0        0                      0     0   \n",
       "3           0               0        0                      0     0   \n",
       "4           0               0        0                      0     0   \n",
       "\n",
       "        Type Level  Furnished         Compound Delivery_Date Delivery_Term  \\\n",
       "0  Apartment    10        0.0  Not_In_Compound         Ready      Finished   \n",
       "1  Apartment     3        0.0  Not_In_Compound         Ready      Finished   \n",
       "2  Apartment     3        0.0  Not_In_Compound         Ready      Finished   \n",
       "3  Apartment     3        0.0  Not_In_Compound         Ready      Finished   \n",
       "4  Apartment     6        0.0  Not_In_Compound         Ready      Finished   \n",
       "\n",
       "    meter_price  \n",
       "0  17600.000000  \n",
       "1   4166.666667  \n",
       "2   9090.909091  \n",
       "3  10645.161290  \n",
       "4  14047.619048  "
      ]
     },
     "execution_count": 57,
     "metadata": {},
     "output_type": "execute_result"
    }
   ],
   "source": [
    "df.head()"
   ]
  },
  {
   "cell_type": "markdown",
   "metadata": {},
   "source": [
    "## Bivariate Visualization :"
   ]
  },
  {
   "cell_type": "markdown",
   "metadata": {},
   "source": [
    "#### we will explore the relation between each variable and price :"
   ]
  },
  {
   "cell_type": "code",
   "execution_count": 58,
   "metadata": {
    "scrolled": false
   },
   "outputs": [
    {
     "name": "stdout",
     "output_type": "stream",
     "text": [
      "<class 'pandas.core.frame.DataFrame'>\n",
      "Int64Index: 7877 entries, 0 to 8740\n",
      "Data columns (total 26 columns):\n",
      " #   Column                 Non-Null Count  Dtype  \n",
      "---  ------                 --------------  -----  \n",
      " 0   Area(SQM)              7877 non-null   int64  \n",
      " 1   Bedroom                7877 non-null   int32  \n",
      " 2   Bathroom               7877 non-null   int32  \n",
      " 3   Location               7877 non-null   object \n",
      " 4   Price                  7877 non-null   int64  \n",
      " 5   Negotiable             7877 non-null   int64  \n",
      " 6   Balcony                7877 non-null   int64  \n",
      " 7   Electricity            7877 non-null   int64  \n",
      " 8   Water                  7877 non-null   int64  \n",
      " 9   Gas                    7877 non-null   int64  \n",
      " 10  Landline               7877 non-null   int64  \n",
      " 11  Elevator               7877 non-null   int64  \n",
      " 12  Security               7877 non-null   int64  \n",
      " 13  Built_in_Kitchen       7877 non-null   int64  \n",
      " 14  Maids_Room             7877 non-null   int64  \n",
      " 15  Private_Garden         7877 non-null   int64  \n",
      " 16  Parking                7877 non-null   int64  \n",
      " 17  Central(A/C)& heating  7877 non-null   int64  \n",
      " 18  Pool                   7877 non-null   int64  \n",
      " 19  Type                   7877 non-null   object \n",
      " 20  Level                  7877 non-null   object \n",
      " 21  Furnished              7877 non-null   float64\n",
      " 22  Compound               7877 non-null   object \n",
      " 23  Delivery_Date          7877 non-null   object \n",
      " 24  Delivery_Term          7877 non-null   object \n",
      " 25  meter_price            7877 non-null   float64\n",
      "dtypes: float64(2), int32(2), int64(16), object(6)\n",
      "memory usage: 1.9+ MB\n"
     ]
    }
   ],
   "source": [
    "df.info()"
   ]
  },
  {
   "cell_type": "code",
   "execution_count": 59,
   "metadata": {},
   "outputs": [
    {
     "data": {
      "text/html": [
       "<div>\n",
       "<style scoped>\n",
       "    .dataframe tbody tr th:only-of-type {\n",
       "        vertical-align: middle;\n",
       "    }\n",
       "\n",
       "    .dataframe tbody tr th {\n",
       "        vertical-align: top;\n",
       "    }\n",
       "\n",
       "    .dataframe thead th {\n",
       "        text-align: right;\n",
       "    }\n",
       "</style>\n",
       "<table border=\"1\" class=\"dataframe\">\n",
       "  <thead>\n",
       "    <tr style=\"text-align: right;\">\n",
       "      <th></th>\n",
       "      <th>Area(SQM)</th>\n",
       "      <th>Bedroom</th>\n",
       "      <th>Bathroom</th>\n",
       "      <th>Location</th>\n",
       "      <th>Price</th>\n",
       "      <th>Negotiable</th>\n",
       "      <th>Balcony</th>\n",
       "      <th>Electricity</th>\n",
       "      <th>Water</th>\n",
       "      <th>Gas</th>\n",
       "      <th>Landline</th>\n",
       "      <th>Elevator</th>\n",
       "      <th>Security</th>\n",
       "      <th>Built_in_Kitchen</th>\n",
       "      <th>Maids_Room</th>\n",
       "      <th>Private_Garden</th>\n",
       "      <th>Parking</th>\n",
       "      <th>Central(A/C)&amp; heating</th>\n",
       "      <th>Pool</th>\n",
       "      <th>Type</th>\n",
       "      <th>Level</th>\n",
       "      <th>Furnished</th>\n",
       "      <th>Compound</th>\n",
       "      <th>Delivery_Date</th>\n",
       "      <th>Delivery_Term</th>\n",
       "      <th>meter_price</th>\n",
       "    </tr>\n",
       "  </thead>\n",
       "  <tbody>\n",
       "    <tr>\n",
       "      <th>0</th>\n",
       "      <td>125</td>\n",
       "      <td>3</td>\n",
       "      <td>2</td>\n",
       "      <td>Shatby</td>\n",
       "      <td>2200000</td>\n",
       "      <td>1</td>\n",
       "      <td>1</td>\n",
       "      <td>1</td>\n",
       "      <td>1</td>\n",
       "      <td>1</td>\n",
       "      <td>0</td>\n",
       "      <td>1</td>\n",
       "      <td>0</td>\n",
       "      <td>0</td>\n",
       "      <td>0</td>\n",
       "      <td>0</td>\n",
       "      <td>0</td>\n",
       "      <td>0</td>\n",
       "      <td>0</td>\n",
       "      <td>Apartment</td>\n",
       "      <td>10</td>\n",
       "      <td>0.0</td>\n",
       "      <td>Not_In_Compound</td>\n",
       "      <td>Ready</td>\n",
       "      <td>Finished</td>\n",
       "      <td>17600.000000</td>\n",
       "    </tr>\n",
       "    <tr>\n",
       "      <th>1</th>\n",
       "      <td>120</td>\n",
       "      <td>4</td>\n",
       "      <td>1</td>\n",
       "      <td>Sidi Beshr</td>\n",
       "      <td>500000</td>\n",
       "      <td>0</td>\n",
       "      <td>0</td>\n",
       "      <td>1</td>\n",
       "      <td>1</td>\n",
       "      <td>1</td>\n",
       "      <td>1</td>\n",
       "      <td>0</td>\n",
       "      <td>0</td>\n",
       "      <td>0</td>\n",
       "      <td>0</td>\n",
       "      <td>0</td>\n",
       "      <td>0</td>\n",
       "      <td>0</td>\n",
       "      <td>0</td>\n",
       "      <td>Apartment</td>\n",
       "      <td>3</td>\n",
       "      <td>0.0</td>\n",
       "      <td>Not_In_Compound</td>\n",
       "      <td>Ready</td>\n",
       "      <td>Finished</td>\n",
       "      <td>4166.666667</td>\n",
       "    </tr>\n",
       "    <tr>\n",
       "      <th>2</th>\n",
       "      <td>165</td>\n",
       "      <td>3</td>\n",
       "      <td>2</td>\n",
       "      <td>Sidi Beshr</td>\n",
       "      <td>1500000</td>\n",
       "      <td>1</td>\n",
       "      <td>1</td>\n",
       "      <td>1</td>\n",
       "      <td>1</td>\n",
       "      <td>1</td>\n",
       "      <td>0</td>\n",
       "      <td>1</td>\n",
       "      <td>0</td>\n",
       "      <td>0</td>\n",
       "      <td>0</td>\n",
       "      <td>0</td>\n",
       "      <td>0</td>\n",
       "      <td>0</td>\n",
       "      <td>0</td>\n",
       "      <td>Apartment</td>\n",
       "      <td>3</td>\n",
       "      <td>0.0</td>\n",
       "      <td>Not_In_Compound</td>\n",
       "      <td>Ready</td>\n",
       "      <td>Finished</td>\n",
       "      <td>9090.909091</td>\n",
       "    </tr>\n",
       "  </tbody>\n",
       "</table>\n",
       "</div>"
      ],
      "text/plain": [
       "   Area(SQM)  Bedroom  Bathroom    Location    Price  Negotiable  Balcony  \\\n",
       "0        125        3         2      Shatby  2200000           1        1   \n",
       "1        120        4         1  Sidi Beshr   500000           0        0   \n",
       "2        165        3         2  Sidi Beshr  1500000           1        1   \n",
       "\n",
       "   Electricity  Water  Gas  Landline  Elevator  Security  Built_in_Kitchen  \\\n",
       "0            1      1    1         0         1         0                 0   \n",
       "1            1      1    1         1         0         0                 0   \n",
       "2            1      1    1         0         1         0                 0   \n",
       "\n",
       "   Maids_Room  Private_Garden  Parking  Central(A/C)& heating  Pool  \\\n",
       "0           0               0        0                      0     0   \n",
       "1           0               0        0                      0     0   \n",
       "2           0               0        0                      0     0   \n",
       "\n",
       "        Type Level  Furnished         Compound Delivery_Date Delivery_Term  \\\n",
       "0  Apartment    10        0.0  Not_In_Compound         Ready      Finished   \n",
       "1  Apartment     3        0.0  Not_In_Compound         Ready      Finished   \n",
       "2  Apartment     3        0.0  Not_In_Compound         Ready      Finished   \n",
       "\n",
       "    meter_price  \n",
       "0  17600.000000  \n",
       "1   4166.666667  \n",
       "2   9090.909091  "
      ]
     },
     "execution_count": 59,
     "metadata": {},
     "output_type": "execute_result"
    }
   ],
   "source": [
    "df.head(3)"
   ]
  },
  {
   "cell_type": "code",
   "execution_count": 60,
   "metadata": {},
   "outputs": [
    {
     "data": {
      "text/plain": [
       "Index(['Area(SQM)', 'Bedroom', 'Bathroom', 'Price', 'Negotiable', 'Balcony',\n",
       "       'Electricity', 'Water', 'Gas', 'Landline', 'Elevator', 'Security',\n",
       "       'Built_in_Kitchen', 'Maids_Room', 'Private_Garden', 'Parking',\n",
       "       'Central(A/C)& heating', 'Pool', 'Furnished', 'meter_price'],\n",
       "      dtype='object')"
      ]
     },
     "execution_count": 60,
     "metadata": {},
     "output_type": "execute_result"
    }
   ],
   "source": [
    "# Numeric Variables :\n",
    "df._get_numeric_data().columns"
   ]
  },
  {
   "cell_type": "code",
   "execution_count": 61,
   "metadata": {},
   "outputs": [
    {
     "data": {
      "image/png": "[encoded data removed]",
      "text/plain": [
       "<Figure size 1152x1152 with 2 Axes>"
      ]
     },
     "metadata": {
      "needs_background": "light"
     },
     "output_type": "display_data"
    }
   ],
   "source": [
    "plt.figure(figsize = [16,16]);\n",
    "sb.heatmap(df.corr(), annot = True, cmap = 'viridis_r');"
   ]
  },
  {
   "cell_type": "code",
   "execution_count": 62,
   "metadata": {},
   "outputs": [
    {
     "data": {
      "text/plain": [
       "Area(SQM)                0.613755\n",
       "Bedroom                  0.334985\n",
       "Bathroom                 0.654187\n",
       "Price                    1.000000\n",
       "Negotiable              -0.351260\n",
       "Balcony                  0.022198\n",
       "Electricity             -0.023274\n",
       "Water                    0.013455\n",
       "Gas                      0.221349\n",
       "Landline                 0.036781\n",
       "Elevator                 0.163591\n",
       "Security                 0.117092\n",
       "Built_in_Kitchen         0.058939\n",
       "Maids_Room              -0.174543\n",
       "Private_Garden           0.054811\n",
       "Parking                  0.244926\n",
       "Central(A/C)& heating    0.125895\n",
       "Pool                     0.020815\n",
       "Furnished               -0.011344\n",
       "meter_price              0.914606\n",
       "Name: Price, dtype: float64"
      ]
     },
     "execution_count": 62,
     "metadata": {},
     "output_type": "execute_result"
    }
   ],
   "source": [
    "# correlation coeff between each feature and price :\n",
    "conf_matrx = df.corr()\n",
    "conf_matrx.Price"
   ]
  },
  {
   "attachments": {
    "8-Pearsons-Correlation-Scale.png": {
     "image/png": "[encoded data removed]"
    }
   },
   "cell_type": "markdown",
   "metadata": {},
   "source": [
    "![8-Pearsons-Correlation-Scale.png](attachment:8-Pearsons-Correlation-Scale.png)"
   ]
  },
  {
   "cell_type": "markdown",
   "metadata": {},
   "source": [
    "* From correlation coeff we can see that features like [Area, Bedroom, Bathroom, Gas, Parking] have a good Coef value."
   ]
  },
  {
   "cell_type": "code",
   "execution_count": 138,
   "metadata": {},
   "outputs": [
    {
     "data": {
      "text/plain": [
       "['Location', 'Type', 'Level', 'Compound', 'Delivery_Date', 'Delivery_Term']"
      ]
     },
     "execution_count": 138,
     "metadata": {},
     "output_type": "execute_result"
    }
   ],
   "source": [
    "# Categorical Variables :\n",
    "df.select_dtypes(include=['object']).columns.tolist()"
   ]
  },
  {
   "cell_type": "markdown",
   "metadata": {},
   "source": [
    "### Location vs. Price :"
   ]
  },
  {
   "cell_type": "code",
   "execution_count": 177,
   "metadata": {},
   "outputs": [],
   "source": [
    "# create a new list contain 'Location' column's values :\n",
    "loc_ = list(df.Location.unique())\n",
    "\n",
    "# create a new list for mean meter price according to each location :\n",
    "mean_meter_price = []\n",
    "\n",
    "# create a loop to calculate the mean meter price for location :\n",
    "for i in loc_ :\n",
    "    x = df[df['Location'] == i].meter_price.mean()\n",
    "    mean_meter_price.append(x)"
   ]
  },
  {
   "cell_type": "code",
   "execution_count": 178,
   "metadata": {
    "scrolled": false
   },
   "outputs": [],
   "source": [
    "# create a new series of [loc_, mean_meter_price]\n",
    "df2 = pd.Series(mean_meter_price , loc_)\n",
    "\n",
    "# convert series to Dataframe :\n",
    "df2 = pd.DataFrame(df2, columns = ['mean_meter_price'])\n",
    "df2 = df2.reset_index().rename(columns = {'index' : 'location'})"
   ]
  },
  {
   "cell_type": "code",
   "execution_count": 181,
   "metadata": {},
   "outputs": [],
   "source": [
    "# sorting columns ascending according to (mean_meter_price):\n",
    "df2 = df2.sort_values('mean_meter_price')\n",
    "df2 = df2.reset_index().drop(['index'], axis = 1)"
   ]
  },
  {
   "cell_type": "code",
   "execution_count": 182,
   "metadata": {
    "scrolled": false
   },
   "outputs": [
    {
     "data": {
      "text/html": [
       "<div>\n",
       "<style scoped>\n",
       "    .dataframe tbody tr th:only-of-type {\n",
       "        vertical-align: middle;\n",
       "    }\n",
       "\n",
       "    .dataframe tbody tr th {\n",
       "        vertical-align: top;\n",
       "    }\n",
       "\n",
       "    .dataframe thead th {\n",
       "        text-align: right;\n",
       "    }\n",
       "</style>\n",
       "<table border=\"1\" class=\"dataframe\">\n",
       "  <thead>\n",
       "    <tr style=\"text-align: right;\">\n",
       "      <th></th>\n",
       "      <th>location</th>\n",
       "      <th>mean_meter_price</th>\n",
       "    </tr>\n",
       "  </thead>\n",
       "  <tbody>\n",
       "    <tr>\n",
       "      <th>0</th>\n",
       "      <td>Nakheel</td>\n",
       "      <td>2722.510849</td>\n",
       "    </tr>\n",
       "    <tr>\n",
       "      <th>1</th>\n",
       "      <td>Agami</td>\n",
       "      <td>3520.564069</td>\n",
       "    </tr>\n",
       "    <tr>\n",
       "      <th>2</th>\n",
       "      <td>Abu Talat</td>\n",
       "      <td>3844.459648</td>\n",
       "    </tr>\n",
       "    <tr>\n",
       "      <th>3</th>\n",
       "      <td>Dekheila</td>\n",
       "      <td>4052.671998</td>\n",
       "    </tr>\n",
       "    <tr>\n",
       "      <th>4</th>\n",
       "      <td>Dhahria</td>\n",
       "      <td>4314.463560</td>\n",
       "    </tr>\n",
       "    <tr>\n",
       "      <th>5</th>\n",
       "      <td>Awayed</td>\n",
       "      <td>4378.736545</td>\n",
       "    </tr>\n",
       "    <tr>\n",
       "      <th>6</th>\n",
       "      <td>Bacchus</td>\n",
       "      <td>4504.665935</td>\n",
       "    </tr>\n",
       "    <tr>\n",
       "      <th>7</th>\n",
       "      <td>Kabbary</td>\n",
       "      <td>4569.355742</td>\n",
       "    </tr>\n",
       "    <tr>\n",
       "      <th>8</th>\n",
       "      <td>Abu Qir</td>\n",
       "      <td>4684.896919</td>\n",
       "    </tr>\n",
       "    <tr>\n",
       "      <th>9</th>\n",
       "      <td>El Max</td>\n",
       "      <td>4727.312600</td>\n",
       "    </tr>\n",
       "    <tr>\n",
       "      <th>10</th>\n",
       "      <td>Karmous</td>\n",
       "      <td>4970.073605</td>\n",
       "    </tr>\n",
       "    <tr>\n",
       "      <th>11</th>\n",
       "      <td>Attarin</td>\n",
       "      <td>5145.058974</td>\n",
       "    </tr>\n",
       "    <tr>\n",
       "      <th>12</th>\n",
       "      <td>Schutz</td>\n",
       "      <td>5447.710727</td>\n",
       "    </tr>\n",
       "    <tr>\n",
       "      <th>13</th>\n",
       "      <td>Seyouf</td>\n",
       "      <td>5463.687707</td>\n",
       "    </tr>\n",
       "    <tr>\n",
       "      <th>14</th>\n",
       "      <td>Al Hadrah</td>\n",
       "      <td>5581.702416</td>\n",
       "    </tr>\n",
       "    <tr>\n",
       "      <th>15</th>\n",
       "      <td>Amreya</td>\n",
       "      <td>5586.091785</td>\n",
       "    </tr>\n",
       "    <tr>\n",
       "      <th>16</th>\n",
       "      <td>Labban</td>\n",
       "      <td>5628.186143</td>\n",
       "    </tr>\n",
       "    <tr>\n",
       "      <th>17</th>\n",
       "      <td>Victoria</td>\n",
       "      <td>5972.181419</td>\n",
       "    </tr>\n",
       "    <tr>\n",
       "      <th>18</th>\n",
       "      <td>Wardian</td>\n",
       "      <td>6073.052435</td>\n",
       "    </tr>\n",
       "    <tr>\n",
       "      <th>19</th>\n",
       "      <td>Salehia</td>\n",
       "      <td>6435.757576</td>\n",
       "    </tr>\n",
       "    <tr>\n",
       "      <th>20</th>\n",
       "      <td>Ras El Tin</td>\n",
       "      <td>6730.691905</td>\n",
       "    </tr>\n",
       "    <tr>\n",
       "      <th>21</th>\n",
       "      <td>Manshiyya</td>\n",
       "      <td>6808.879390</td>\n",
       "    </tr>\n",
       "    <tr>\n",
       "      <th>22</th>\n",
       "      <td>Mandara</td>\n",
       "      <td>6837.244075</td>\n",
       "    </tr>\n",
       "    <tr>\n",
       "      <th>23</th>\n",
       "      <td>Asafra</td>\n",
       "      <td>6852.908452</td>\n",
       "    </tr>\n",
       "    <tr>\n",
       "      <th>24</th>\n",
       "      <td>Gomrok</td>\n",
       "      <td>6982.061812</td>\n",
       "    </tr>\n",
       "    <tr>\n",
       "      <th>25</th>\n",
       "      <td>Borg al-Arab</td>\n",
       "      <td>7118.791702</td>\n",
       "    </tr>\n",
       "    <tr>\n",
       "      <th>26</th>\n",
       "      <td>Bahray - Anfoshy</td>\n",
       "      <td>7152.507702</td>\n",
       "    </tr>\n",
       "    <tr>\n",
       "      <th>27</th>\n",
       "      <td>Sidi Beshr</td>\n",
       "      <td>7712.332853</td>\n",
       "    </tr>\n",
       "    <tr>\n",
       "      <th>28</th>\n",
       "      <td>Miami</td>\n",
       "      <td>7788.438034</td>\n",
       "    </tr>\n",
       "    <tr>\n",
       "      <th>29</th>\n",
       "      <td>Fleming</td>\n",
       "      <td>7904.291313</td>\n",
       "    </tr>\n",
       "    <tr>\n",
       "      <th>30</th>\n",
       "      <td>Montazah</td>\n",
       "      <td>8267.910453</td>\n",
       "    </tr>\n",
       "    <tr>\n",
       "      <th>31</th>\n",
       "      <td>Koum al-Dikka</td>\n",
       "      <td>8743.149146</td>\n",
       "    </tr>\n",
       "    <tr>\n",
       "      <th>32</th>\n",
       "      <td>Gianaclis</td>\n",
       "      <td>9572.368066</td>\n",
       "    </tr>\n",
       "    <tr>\n",
       "      <th>33</th>\n",
       "      <td>Maamoura</td>\n",
       "      <td>9575.148340</td>\n",
       "    </tr>\n",
       "    <tr>\n",
       "      <th>34</th>\n",
       "      <td>Bolkly</td>\n",
       "      <td>10507.572942</td>\n",
       "    </tr>\n",
       "    <tr>\n",
       "      <th>35</th>\n",
       "      <td>Moharam Bik</td>\n",
       "      <td>10751.531702</td>\n",
       "    </tr>\n",
       "    <tr>\n",
       "      <th>36</th>\n",
       "      <td>Al Ibrahimiyyah</td>\n",
       "      <td>11197.780580</td>\n",
       "    </tr>\n",
       "    <tr>\n",
       "      <th>37</th>\n",
       "      <td>Zezenia</td>\n",
       "      <td>11445.167893</td>\n",
       "    </tr>\n",
       "    <tr>\n",
       "      <th>38</th>\n",
       "      <td>Cleopatra</td>\n",
       "      <td>11581.900876</td>\n",
       "    </tr>\n",
       "    <tr>\n",
       "      <th>39</th>\n",
       "      <td>Laurent</td>\n",
       "      <td>13043.821667</td>\n",
       "    </tr>\n",
       "    <tr>\n",
       "      <th>40</th>\n",
       "      <td>Raml Station</td>\n",
       "      <td>13091.826871</td>\n",
       "    </tr>\n",
       "    <tr>\n",
       "      <th>41</th>\n",
       "      <td>Camp Caesar</td>\n",
       "      <td>13292.619433</td>\n",
       "    </tr>\n",
       "    <tr>\n",
       "      <th>42</th>\n",
       "      <td>Sidi Gaber</td>\n",
       "      <td>13316.733784</td>\n",
       "    </tr>\n",
       "    <tr>\n",
       "      <th>43</th>\n",
       "      <td>Sporting</td>\n",
       "      <td>13586.598474</td>\n",
       "    </tr>\n",
       "    <tr>\n",
       "      <th>44</th>\n",
       "      <td>Kafr Abdo</td>\n",
       "      <td>13752.415591</td>\n",
       "    </tr>\n",
       "    <tr>\n",
       "      <th>45</th>\n",
       "      <td>Saba Pasha</td>\n",
       "      <td>13865.717295</td>\n",
       "    </tr>\n",
       "    <tr>\n",
       "      <th>46</th>\n",
       "      <td>Glim</td>\n",
       "      <td>14391.966005</td>\n",
       "    </tr>\n",
       "    <tr>\n",
       "      <th>47</th>\n",
       "      <td>Smoha</td>\n",
       "      <td>14534.694743</td>\n",
       "    </tr>\n",
       "    <tr>\n",
       "      <th>48</th>\n",
       "      <td>San Stefano</td>\n",
       "      <td>14696.127203</td>\n",
       "    </tr>\n",
       "    <tr>\n",
       "      <th>49</th>\n",
       "      <td>Roushdy</td>\n",
       "      <td>15277.747523</td>\n",
       "    </tr>\n",
       "    <tr>\n",
       "      <th>50</th>\n",
       "      <td>Shatby</td>\n",
       "      <td>15387.248775</td>\n",
       "    </tr>\n",
       "    <tr>\n",
       "      <th>51</th>\n",
       "      <td>Stanley</td>\n",
       "      <td>16042.256356</td>\n",
       "    </tr>\n",
       "    <tr>\n",
       "      <th>52</th>\n",
       "      <td>Azarita</td>\n",
       "      <td>16437.767090</td>\n",
       "    </tr>\n",
       "  </tbody>\n",
       "</table>\n",
       "</div>"
      ],
      "text/plain": [
       "            location  mean_meter_price\n",
       "0            Nakheel       2722.510849\n",
       "1              Agami       3520.564069\n",
       "2          Abu Talat       3844.459648\n",
       "3           Dekheila       4052.671998\n",
       "4            Dhahria       4314.463560\n",
       "5             Awayed       4378.736545\n",
       "6            Bacchus       4504.665935\n",
       "7            Kabbary       4569.355742\n",
       "8            Abu Qir       4684.896919\n",
       "9             El Max       4727.312600\n",
       "10           Karmous       4970.073605\n",
       "11           Attarin       5145.058974\n",
       "12            Schutz       5447.710727\n",
       "13            Seyouf       5463.687707\n",
       "14         Al Hadrah       5581.702416\n",
       "15            Amreya       5586.091785\n",
       "16            Labban       5628.186143\n",
       "17          Victoria       5972.181419\n",
       "18           Wardian       6073.052435\n",
       "19           Salehia       6435.757576\n",
       "20        Ras El Tin       6730.691905\n",
       "21         Manshiyya       6808.879390\n",
       "22           Mandara       6837.244075\n",
       "23            Asafra       6852.908452\n",
       "24            Gomrok       6982.061812\n",
       "25      Borg al-Arab       7118.791702\n",
       "26  Bahray - Anfoshy       7152.507702\n",
       "27        Sidi Beshr       7712.332853\n",
       "28             Miami       7788.438034\n",
       "29           Fleming       7904.291313\n",
       "30          Montazah       8267.910453\n",
       "31     Koum al-Dikka       8743.149146\n",
       "32         Gianaclis       9572.368066\n",
       "33          Maamoura       9575.148340\n",
       "34            Bolkly      10507.572942\n",
       "35       Moharam Bik      10751.531702\n",
       "36   Al Ibrahimiyyah      11197.780580\n",
       "37           Zezenia      11445.167893\n",
       "38         Cleopatra      11581.900876\n",
       "39           Laurent      13043.821667\n",
       "40      Raml Station      13091.826871\n",
       "41       Camp Caesar      13292.619433\n",
       "42        Sidi Gaber      13316.733784\n",
       "43          Sporting      13586.598474\n",
       "44         Kafr Abdo      13752.415591\n",
       "45        Saba Pasha      13865.717295\n",
       "46              Glim      14391.966005\n",
       "47             Smoha      14534.694743\n",
       "48       San Stefano      14696.127203\n",
       "49           Roushdy      15277.747523\n",
       "50            Shatby      15387.248775\n",
       "51           Stanley      16042.256356\n",
       "52           Azarita      16437.767090"
      ]
     },
     "execution_count": 182,
     "metadata": {},
     "output_type": "execute_result"
    }
   ],
   "source": [
    "df2"
   ]
  },
  {
   "cell_type": "code",
   "execution_count": 187,
   "metadata": {
    "scrolled": false
   },
   "outputs": [
    {
     "data": {
      "image/png": "[encoded data removed]",
      "text/plain": [
       "<Figure size 1152x432 with 1 Axes>"
      ]
     },
     "metadata": {
      "needs_background": "light"
     },
     "output_type": "display_data"
    }
   ],
   "source": [
    "plt.figure(figsize = [16,6]);\n",
    "sb.barplot(data = df2, x = 'location', y = 'mean_meter_price',color = color);\n",
    "plt.xticks(rotation = 90);\n",
    "plt.title(\"Mean Price per Meter for each location\", size = 14);"
   ]
  },
  {
   "cell_type": "markdown",
   "metadata": {},
   "source": [
    "### Price vs. Level :"
   ]
  },
  {
   "cell_type": "code",
   "execution_count": 195,
   "metadata": {},
   "outputs": [
    {
     "data": {
      "image/png": "[encoded data removed]",
      "text/plain": [
       "<Figure size 864x432 with 1 Axes>"
      ]
     },
     "metadata": {
      "needs_background": "light"
     },
     "output_type": "display_data"
    }
   ],
   "source": [
    "plt.figure(figsize = [12,6]);\n",
    "sb.barplot(data = df, x = 'Level', y = 'Price',color = color, order = ['1','2','3','4','5','6','7','8','9','10','10+']);\n",
    "plt.xticks(rotation = 90);"
   ]
  },
  {
   "cell_type": "markdown",
   "metadata": {},
   "source": [
    "### Price vs. Compound :"
   ]
  },
  {
   "cell_type": "code",
   "execution_count": 199,
   "metadata": {},
   "outputs": [],
   "source": [
    "# create a new list contain compound name :\n",
    "loc_ = list(df.Compound.unique())\n",
    "\n",
    "# create a new list for mean meter price according to each location :\n",
    "mean_meter_price = []\n",
    "\n",
    "# create a loop to calculate the mean meter price for location :\n",
    "for i in loc_ :\n",
    "    x = df[df['Compound'] == i].meter_price.mean()\n",
    "    mean_meter_price.append(x)"
   ]
  },
  {
   "cell_type": "code",
   "execution_count": 201,
   "metadata": {},
   "outputs": [],
   "source": [
    "# create a new series of [loc_, mean_meter_price]\n",
    "df3 = pd.Series(mean_meter_price , loc_)\n",
    "\n",
    "# convert series to Dataframe :\n",
    "df3 = pd.DataFrame(df3, columns = ['mean_meter_price'])\n",
    "df3 = df3.reset_index().rename(columns = {'index' : 'compound'})"
   ]
  },
  {
   "cell_type": "code",
   "execution_count": 202,
   "metadata": {},
   "outputs": [
    {
     "data": {
      "text/html": [
       "<div>\n",
       "<style scoped>\n",
       "    .dataframe tbody tr th:only-of-type {\n",
       "        vertical-align: middle;\n",
       "    }\n",
       "\n",
       "    .dataframe tbody tr th {\n",
       "        vertical-align: top;\n",
       "    }\n",
       "\n",
       "    .dataframe thead th {\n",
       "        text-align: right;\n",
       "    }\n",
       "</style>\n",
       "<table border=\"1\" class=\"dataframe\">\n",
       "  <thead>\n",
       "    <tr style=\"text-align: right;\">\n",
       "      <th></th>\n",
       "      <th>compound</th>\n",
       "      <th>mean_meter_price</th>\n",
       "    </tr>\n",
       "  </thead>\n",
       "  <tbody>\n",
       "    <tr>\n",
       "      <th>0</th>\n",
       "      <td>Dyar</td>\n",
       "      <td>2285.714286</td>\n",
       "    </tr>\n",
       "    <tr>\n",
       "      <th>1</th>\n",
       "      <td>Atika</td>\n",
       "      <td>2631.578947</td>\n",
       "    </tr>\n",
       "    <tr>\n",
       "      <th>2</th>\n",
       "      <td>Alma</td>\n",
       "      <td>2666.666667</td>\n",
       "    </tr>\n",
       "    <tr>\n",
       "      <th>3</th>\n",
       "      <td>Nakheel</td>\n",
       "      <td>2783.811983</td>\n",
       "    </tr>\n",
       "    <tr>\n",
       "      <th>4</th>\n",
       "      <td>Eshraqa</td>\n",
       "      <td>2875.000000</td>\n",
       "    </tr>\n",
       "    <tr>\n",
       "      <th>5</th>\n",
       "      <td>Madinaty</td>\n",
       "      <td>3052.631579</td>\n",
       "    </tr>\n",
       "    <tr>\n",
       "      <th>6</th>\n",
       "      <td>Pukka</td>\n",
       "      <td>3125.000000</td>\n",
       "    </tr>\n",
       "    <tr>\n",
       "      <th>7</th>\n",
       "      <td>Kenz</td>\n",
       "      <td>3181.818182</td>\n",
       "    </tr>\n",
       "    <tr>\n",
       "      <th>8</th>\n",
       "      <td>Ashrafeya</td>\n",
       "      <td>3428.571429</td>\n",
       "    </tr>\n",
       "    <tr>\n",
       "      <th>9</th>\n",
       "      <td>Akoya</td>\n",
       "      <td>3766.666667</td>\n",
       "    </tr>\n",
       "    <tr>\n",
       "      <th>10</th>\n",
       "      <td>Andalus</td>\n",
       "      <td>3796.568627</td>\n",
       "    </tr>\n",
       "    <tr>\n",
       "      <th>11</th>\n",
       "      <td>Asala</td>\n",
       "      <td>4100.957854</td>\n",
       "    </tr>\n",
       "    <tr>\n",
       "      <th>12</th>\n",
       "      <td>Azzar</td>\n",
       "      <td>4800.000000</td>\n",
       "    </tr>\n",
       "    <tr>\n",
       "      <th>13</th>\n",
       "      <td>VGK</td>\n",
       "      <td>5234.581316</td>\n",
       "    </tr>\n",
       "    <tr>\n",
       "      <th>14</th>\n",
       "      <td>Amorada</td>\n",
       "      <td>5714.737194</td>\n",
       "    </tr>\n",
       "    <tr>\n",
       "      <th>15</th>\n",
       "      <td>Yaru</td>\n",
       "      <td>5716.655041</td>\n",
       "    </tr>\n",
       "    <tr>\n",
       "      <th>16</th>\n",
       "      <td>OIA</td>\n",
       "      <td>6666.666667</td>\n",
       "    </tr>\n",
       "    <tr>\n",
       "      <th>17</th>\n",
       "      <td>ABHA</td>\n",
       "      <td>6977.605184</td>\n",
       "    </tr>\n",
       "    <tr>\n",
       "      <th>18</th>\n",
       "      <td>Aswar</td>\n",
       "      <td>7421.900161</td>\n",
       "    </tr>\n",
       "    <tr>\n",
       "      <th>19</th>\n",
       "      <td>Sama</td>\n",
       "      <td>7695.652174</td>\n",
       "    </tr>\n",
       "    <tr>\n",
       "      <th>20</th>\n",
       "      <td>Not_In_Compound</td>\n",
       "      <td>8065.404048</td>\n",
       "    </tr>\n",
       "    <tr>\n",
       "      <th>21</th>\n",
       "      <td>Bellagio</td>\n",
       "      <td>8391.608392</td>\n",
       "    </tr>\n",
       "    <tr>\n",
       "      <th>22</th>\n",
       "      <td>Gardenia</td>\n",
       "      <td>8432.329317</td>\n",
       "    </tr>\n",
       "    <tr>\n",
       "      <th>23</th>\n",
       "      <td>Etlalah</td>\n",
       "      <td>15002.500000</td>\n",
       "    </tr>\n",
       "    <tr>\n",
       "      <th>24</th>\n",
       "      <td>Murooj</td>\n",
       "      <td>17382.965694</td>\n",
       "    </tr>\n",
       "    <tr>\n",
       "      <th>25</th>\n",
       "      <td>Skyline</td>\n",
       "      <td>20769.836049</td>\n",
       "    </tr>\n",
       "  </tbody>\n",
       "</table>\n",
       "</div>"
      ],
      "text/plain": [
       "           compound  mean_meter_price\n",
       "0              Dyar       2285.714286\n",
       "1             Atika       2631.578947\n",
       "2              Alma       2666.666667\n",
       "3           Nakheel       2783.811983\n",
       "4           Eshraqa       2875.000000\n",
       "5          Madinaty       3052.631579\n",
       "6             Pukka       3125.000000\n",
       "7              Kenz       3181.818182\n",
       "8         Ashrafeya       3428.571429\n",
       "9             Akoya       3766.666667\n",
       "10          Andalus       3796.568627\n",
       "11            Asala       4100.957854\n",
       "12            Azzar       4800.000000\n",
       "13              VGK       5234.581316\n",
       "14          Amorada       5714.737194\n",
       "15             Yaru       5716.655041\n",
       "16              OIA       6666.666667\n",
       "17             ABHA       6977.605184\n",
       "18            Aswar       7421.900161\n",
       "19             Sama       7695.652174\n",
       "20  Not_In_Compound       8065.404048\n",
       "21         Bellagio       8391.608392\n",
       "22         Gardenia       8432.329317\n",
       "23          Etlalah      15002.500000\n",
       "24           Murooj      17382.965694\n",
       "25          Skyline      20769.836049"
      ]
     },
     "execution_count": 202,
     "metadata": {},
     "output_type": "execute_result"
    }
   ],
   "source": [
    "# sorting columns ascending according to (mean_meter_price):\n",
    "df3 = df3.sort_values('mean_meter_price')\n",
    "df3 = df3.reset_index().drop(['index'], axis = 1)\n",
    "df3"
   ]
  },
  {
   "cell_type": "code",
   "execution_count": 204,
   "metadata": {},
   "outputs": [
    {
     "data": {
      "image/png": "[encoded data removed]",
      "text/plain": [
       "<Figure size 864x432 with 1 Axes>"
      ]
     },
     "metadata": {
      "needs_background": "light"
     },
     "output_type": "display_data"
    }
   ],
   "source": [
    "plt.figure(figsize = [12,6]);\n",
    "sb.barplot(data = df3, x = 'compound', y = 'mean_meter_price',color = color);\n",
    "plt.xticks(rotation = 90);\n",
    "plt.title(\"Mean Price per Meter for each compound\", size = 14);"
   ]
  },
  {
   "cell_type": "code",
   "execution_count": null,
   "metadata": {},
   "outputs": [],
   "source": []
  },
  {
   "cell_type": "code",
   "execution_count": null,
   "metadata": {},
   "outputs": [],
   "source": []
  },
  {
   "cell_type": "code",
   "execution_count": null,
   "metadata": {},
   "outputs": [],
   "source": []
  },
  {
   "cell_type": "code",
   "execution_count": null,
   "metadata": {},
   "outputs": [],
   "source": []
  },
  {
   "cell_type": "code",
   "execution_count": null,
   "metadata": {},
   "outputs": [],
   "source": []
  },
  {
   "cell_type": "code",
   "execution_count": null,
   "metadata": {},
   "outputs": [],
   "source": []
  },
  {
   "cell_type": "code",
   "execution_count": null,
   "metadata": {},
   "outputs": [],
   "source": []
  },
  {
   "cell_type": "code",
   "execution_count": null,
   "metadata": {},
   "outputs": [],
   "source": []
  },
  {
   "cell_type": "code",
   "execution_count": null,
   "metadata": {},
   "outputs": [],
   "source": []
  },
  {
   "cell_type": "code",
   "execution_count": null,
   "metadata": {},
   "outputs": [],
   "source": []
  },
  {
   "cell_type": "code",
   "execution_count": null,
   "metadata": {},
   "outputs": [],
   "source": []
  },
  {
   "cell_type": "code",
   "execution_count": null,
   "metadata": {},
   "outputs": [],
   "source": []
  },
  {
   "cell_type": "code",
   "execution_count": null,
   "metadata": {},
   "outputs": [],
   "source": []
  },
  {
   "cell_type": "code",
   "execution_count": null,
   "metadata": {},
   "outputs": [],
   "source": []
  },
  {
   "cell_type": "code",
   "execution_count": null,
   "metadata": {},
   "outputs": [],
   "source": []
  },
  {
   "cell_type": "code",
   "execution_count": null,
   "metadata": {},
   "outputs": [],
   "source": []
  },
  {
   "cell_type": "code",
   "execution_count": null,
   "metadata": {},
   "outputs": [],
   "source": []
  },
  {
   "cell_type": "code",
   "execution_count": null,
   "metadata": {},
   "outputs": [],
   "source": []
  },
  {
   "cell_type": "code",
   "execution_count": 67,
   "metadata": {},
   "outputs": [],
   "source": [
    "from sklearn.linear_model import LinearRegression\n",
    "from sklearn.model_selection import train_test_split\n",
    "from sklearn.metrics import accuracy_score\n",
    "from sklearn.metrics import mean_squared_error"
   ]
  },
  {
   "cell_type": "code",
   "execution_count": 66,
   "metadata": {},
   "outputs": [],
   "source": [
    "model = LinearRegression()"
   ]
  },
  {
   "cell_type": "code",
   "execution_count": 68,
   "metadata": {},
   "outputs": [],
   "source": [
    "x = df.drop('Price', axis = 'columns')\n",
    "y = df['Price']"
   ]
  },
  {
   "cell_type": "code",
   "execution_count": 69,
   "metadata": {},
   "outputs": [],
   "source": [
    "x_train, x_test, y_train, y_test = train_test_split(x,y,test_size = 0.2)"
   ]
  },
  {
   "cell_type": "code",
   "execution_count": 70,
   "metadata": {},
   "outputs": [
    {
     "data": {
      "text/plain": [
       "LinearRegression()"
      ]
     },
     "execution_count": 70,
     "metadata": {},
     "output_type": "execute_result"
    }
   ],
   "source": [
    "model.fit(x_train, y_train)"
   ]
  },
  {
   "cell_type": "code",
   "execution_count": 72,
   "metadata": {},
   "outputs": [],
   "source": [
    "y_pred = model.predict(x_test)"
   ]
  },
  {
   "cell_type": "code",
   "execution_count": 73,
   "metadata": {},
   "outputs": [
    {
     "data": {
      "text/plain": [
       "191766163034.44357"
      ]
     },
     "execution_count": 73,
     "metadata": {},
     "output_type": "execute_result"
    }
   ],
   "source": [
    "mean_squared_error(y_test,y_pred)"
   ]
  },
  {
   "cell_type": "code",
   "execution_count": null,
   "metadata": {},
   "outputs": [],
   "source": []
  }
 ],
 "metadata": {
  "kernelspec": {
   "display_name": "Python 3",
   "language": "python",
   "name": "python3"
  },
  "language_info": {
   "codemirror_mode": {
    "name": "ipython",
    "version": 3
   },
   "file_extension": ".py",
   "mimetype": "text/x-python",
   "name": "python",
   "nbconvert_exporter": "python",
   "pygments_lexer": "ipython3",
   "version": "3.8.5"
  }
 },
 "nbformat": 4,
 "nbformat_minor": 4
}
